{
 "cells": [
  {
   "cell_type": "code",
   "execution_count": 6,
   "id": "030735eb",
   "metadata": {},
   "outputs": [],
   "source": [
    "# Proxy Rotation\n",
    "# User Agent Gen\n",
    "# Headless Browsing\n",
    "# Handling Captcha\n",
    "# Rate Limit, Retry\n",
    "# Avoiding Detection\n",
    "# Data Storage, DB Gen\n",
    "# Monitoring Alerts\n",
    "# Robots.txt\n",
    "# Deploying"
   ]
  },
  {
   "cell_type": "markdown",
   "id": "20897ebe",
   "metadata": {},
   "source": [
    "# Proxy Rotation"
   ]
  },
  {
   "cell_type": "code",
   "execution_count": 10,
   "id": "815a3b7d",
   "metadata": {},
   "outputs": [
    {
     "name": "stdout",
     "output_type": "stream",
     "text": [
      "Collecting scrapy\n",
      "  Obtaining dependency information for scrapy from https://files.pythonhosted.org/packages/08/66/22ed9609df4b6d94a66512572a11b35943a6cb36dc268f88ebfbede60be1/Scrapy-2.11.0-py2.py3-none-any.whl.metadata\n",
      "  Using cached Scrapy-2.11.0-py2.py3-none-any.whl.metadata (5.2 kB)\n",
      "Collecting Twisted<23.8.0,>=18.9.0 (from scrapy)\n",
      "  Downloading Twisted-22.10.0-py3-none-any.whl (3.1 MB)\n",
      "\u001b[2K     \u001b[90m━━━━━━━━━━━━━━━━━━━━━━━━━━━━━━━━━━━━━━━━\u001b[0m \u001b[32m3.1/3.1 MB\u001b[0m \u001b[31m5.8 MB/s\u001b[0m eta \u001b[36m0:00:00\u001b[0m00:01\u001b[0m00:01\u001b[0m\n",
      "\u001b[?25hCollecting cryptography>=36.0.0 (from scrapy)\n",
      "  Obtaining dependency information for cryptography>=36.0.0 from https://files.pythonhosted.org/packages/06/5d/f992c40471b60b762dca2b118c0a7837e446bea917f2be54b8f49802fe5e/cryptography-41.0.4-cp37-abi3-macosx_10_12_universal2.whl.metadata\n",
      "  Downloading cryptography-41.0.4-cp37-abi3-macosx_10_12_universal2.whl.metadata (5.2 kB)\n",
      "Collecting cssselect>=0.9.1 (from scrapy)\n",
      "  Downloading cssselect-1.2.0-py2.py3-none-any.whl (18 kB)\n",
      "Collecting itemloaders>=1.0.1 (from scrapy)\n",
      "  Downloading itemloaders-1.1.0-py3-none-any.whl (11 kB)\n",
      "Collecting parsel>=1.5.0 (from scrapy)\n",
      "  Downloading parsel-1.8.1-py2.py3-none-any.whl (17 kB)\n",
      "Collecting pyOpenSSL>=21.0.0 (from scrapy)\n",
      "  Obtaining dependency information for pyOpenSSL>=21.0.0 from https://files.pythonhosted.org/packages/f0/e2/f8b4f1c67933a4907e52228241f4bd52169f3196b70af04403b29c63238a/pyOpenSSL-23.2.0-py3-none-any.whl.metadata\n",
      "  Downloading pyOpenSSL-23.2.0-py3-none-any.whl.metadata (10 kB)\n",
      "Collecting queuelib>=1.4.2 (from scrapy)\n",
      "  Downloading queuelib-1.6.2-py2.py3-none-any.whl (13 kB)\n",
      "Collecting service-identity>=18.1.0 (from scrapy)\n",
      "  Obtaining dependency information for service-identity>=18.1.0 from https://files.pythonhosted.org/packages/0c/42/bf07f277b45da6e350df3314804aa2b5411e0938d3b78b4f17da2e1302c2/service_identity-23.1.0-py3-none-any.whl.metadata\n",
      "  Downloading service_identity-23.1.0-py3-none-any.whl.metadata (5.5 kB)\n",
      "Collecting w3lib>=1.17.0 (from scrapy)\n",
      "  Obtaining dependency information for w3lib>=1.17.0 from https://files.pythonhosted.org/packages/82/e2/dcf8573d7153194eb673347cea1f9bbdb2a8e61030740fb6f50e4234a00b/w3lib-2.1.2-py3-none-any.whl.metadata\n",
      "  Downloading w3lib-2.1.2-py3-none-any.whl.metadata (1.1 kB)\n",
      "Collecting zope.interface>=5.1.0 (from scrapy)\n",
      "  Downloading zope.interface-6.0-cp310-cp310-macosx_11_0_arm64.whl (202 kB)\n",
      "\u001b[2K     \u001b[90m━━━━━━━━━━━━━━━━━━━━━━━━━━━━━━━━━━━━━━━\u001b[0m \u001b[32m202.4/202.4 kB\u001b[0m \u001b[31m2.9 MB/s\u001b[0m eta \u001b[36m0:00:00\u001b[0ma \u001b[36m0:00:01\u001b[0m\n",
      "\u001b[?25hCollecting protego>=0.1.15 (from scrapy)\n",
      "  Obtaining dependency information for protego>=0.1.15 from https://files.pythonhosted.org/packages/bc/16/14fd1ecdece2e1d87279fc09fbd2d55bae5fa033783c3547af631c74d718/Protego-0.3.0-py2.py3-none-any.whl.metadata\n",
      "  Downloading Protego-0.3.0-py2.py3-none-any.whl.metadata (5.8 kB)\n",
      "Collecting itemadapter>=0.1.0 (from scrapy)\n",
      "  Downloading itemadapter-0.8.0-py3-none-any.whl (11 kB)\n",
      "Requirement already satisfied: setuptools in /Users/vzucher/.pyenv/versions/3.10.6/envs/lewagon/lib/python3.10/site-packages (from scrapy) (68.2.2)\n",
      "Requirement already satisfied: packaging in /Users/vzucher/.pyenv/versions/3.10.6/envs/lewagon/lib/python3.10/site-packages (from scrapy) (23.1)\n",
      "Collecting tldextract (from scrapy)\n",
      "  Obtaining dependency information for tldextract from https://files.pythonhosted.org/packages/76/a6/adc68851ae4a7fd6a02ad5c1c2f4533d5811c64558bfaa583a61b0e312b5/tldextract-3.6.0-py3-none-any.whl.metadata\n",
      "  Downloading tldextract-3.6.0-py3-none-any.whl.metadata (11 kB)\n",
      "Requirement already satisfied: lxml>=4.4.1 in /Users/vzucher/.pyenv/versions/3.10.6/envs/lewagon/lib/python3.10/site-packages (from scrapy) (4.9.1)\n",
      "Collecting PyDispatcher>=2.0.5 (from scrapy)\n",
      "  Downloading PyDispatcher-2.0.7-py3-none-any.whl (12 kB)\n",
      "Requirement already satisfied: cffi>=1.12 in /Users/vzucher/.pyenv/versions/3.10.6/envs/lewagon/lib/python3.10/site-packages (from cryptography>=36.0.0->scrapy) (1.15.1)\n",
      "Collecting jmespath>=0.9.5 (from itemloaders>=1.0.1->scrapy)\n",
      "  Downloading jmespath-1.0.1-py3-none-any.whl (20 kB)\n",
      "Requirement already satisfied: attrs>=19.1.0 in /Users/vzucher/.pyenv/versions/3.10.6/envs/lewagon/lib/python3.10/site-packages (from service-identity>=18.1.0->scrapy) (22.1.0)\n",
      "Requirement already satisfied: pyasn1 in /Users/vzucher/.pyenv/versions/3.10.6/envs/lewagon/lib/python3.10/site-packages (from service-identity>=18.1.0->scrapy) (0.5.0)\n",
      "Requirement already satisfied: pyasn1-modules in /Users/vzucher/.pyenv/versions/3.10.6/envs/lewagon/lib/python3.10/site-packages (from service-identity>=18.1.0->scrapy) (0.3.0)\n",
      "Collecting constantly>=15.1 (from Twisted<23.8.0,>=18.9.0->scrapy)\n",
      "  Downloading constantly-15.1.0-py2.py3-none-any.whl (7.9 kB)\n",
      "Collecting incremental>=21.3.0 (from Twisted<23.8.0,>=18.9.0->scrapy)\n",
      "  Downloading incremental-22.10.0-py2.py3-none-any.whl (16 kB)\n",
      "Collecting Automat>=0.8.0 (from Twisted<23.8.0,>=18.9.0->scrapy)\n",
      "  Downloading Automat-22.10.0-py2.py3-none-any.whl (26 kB)\n",
      "Collecting hyperlink>=17.1.1 (from Twisted<23.8.0,>=18.9.0->scrapy)\n",
      "  Downloading hyperlink-21.0.0-py2.py3-none-any.whl (74 kB)\n",
      "\u001b[2K     \u001b[90m━━━━━━━━━━━━━━━━━━━━━━━━━━━━━━━━━━━━━━━━\u001b[0m \u001b[32m74.6/74.6 kB\u001b[0m \u001b[31m4.7 MB/s\u001b[0m eta \u001b[36m0:00:00\u001b[0m\n",
      "\u001b[?25hRequirement already satisfied: typing-extensions>=3.6.5 in /Users/vzucher/.pyenv/versions/3.10.6/envs/lewagon/lib/python3.10/site-packages (from Twisted<23.8.0,>=18.9.0->scrapy) (4.8.0)\n",
      "Requirement already satisfied: idna in /Users/vzucher/.pyenv/versions/3.10.6/envs/lewagon/lib/python3.10/site-packages (from tldextract->scrapy) (3.4)\n",
      "Requirement already satisfied: requests>=2.1.0 in /Users/vzucher/.pyenv/versions/3.10.6/envs/lewagon/lib/python3.10/site-packages (from tldextract->scrapy) (2.31.0)\n",
      "Collecting requests-file>=1.4 (from tldextract->scrapy)\n",
      "  Downloading requests_file-1.5.1-py2.py3-none-any.whl (3.7 kB)\n",
      "Requirement already satisfied: filelock>=3.0.8 in /Users/vzucher/.pyenv/versions/3.10.6/envs/lewagon/lib/python3.10/site-packages (from tldextract->scrapy) (3.12.4)\n",
      "Requirement already satisfied: six in /Users/vzucher/.pyenv/versions/3.10.6/envs/lewagon/lib/python3.10/site-packages (from Automat>=0.8.0->Twisted<23.8.0,>=18.9.0->scrapy) (1.16.0)\n",
      "Requirement already satisfied: pycparser in /Users/vzucher/.pyenv/versions/3.10.6/envs/lewagon/lib/python3.10/site-packages (from cffi>=1.12->cryptography>=36.0.0->scrapy) (2.21)\n",
      "Requirement already satisfied: charset-normalizer<4,>=2 in /Users/vzucher/.pyenv/versions/3.10.6/envs/lewagon/lib/python3.10/site-packages (from requests>=2.1.0->tldextract->scrapy) (3.2.0)\n",
      "Requirement already satisfied: urllib3<3,>=1.21.1 in /Users/vzucher/.pyenv/versions/3.10.6/envs/lewagon/lib/python3.10/site-packages (from requests>=2.1.0->tldextract->scrapy) (1.26.16)\n",
      "Requirement already satisfied: certifi>=2017.4.17 in /Users/vzucher/.pyenv/versions/3.10.6/envs/lewagon/lib/python3.10/site-packages (from requests>=2.1.0->tldextract->scrapy) (2023.7.22)\n",
      "Downloading Scrapy-2.11.0-py2.py3-none-any.whl (286 kB)\n",
      "\u001b[2K   \u001b[90m━━━━━━━━━━━━━━━━━━━━━━━━━━━━━━━━━━━━━━━━\u001b[0m \u001b[32m286.4/286.4 kB\u001b[0m \u001b[31m5.0 MB/s\u001b[0m eta \u001b[36m0:00:00\u001b[0ma \u001b[36m0:00:01\u001b[0m\n",
      "\u001b[?25hDownloading cryptography-41.0.4-cp37-abi3-macosx_10_12_universal2.whl (5.3 MB)\n",
      "\u001b[2K   \u001b[90m━━━━━━━━━━━━━━━━━━━━━━━━━━━━━━━━━━━━━━━━\u001b[0m \u001b[32m5.3/5.3 MB\u001b[0m \u001b[31m4.7 MB/s\u001b[0m eta \u001b[36m0:00:00\u001b[0m00:01\u001b[0m00:01\u001b[0m\n",
      "\u001b[?25hDownloading Protego-0.3.0-py2.py3-none-any.whl (8.5 kB)\n",
      "Downloading pyOpenSSL-23.2.0-py3-none-any.whl (59 kB)\n",
      "\u001b[2K   \u001b[90m━━━━━━━━━━━━━━━━━━━━━━━━━━━━━━━━━━━━━━━━\u001b[0m \u001b[32m59.0/59.0 kB\u001b[0m \u001b[31m4.8 MB/s\u001b[0m eta \u001b[36m0:00:00\u001b[0m\n",
      "\u001b[?25hDownloading service_identity-23.1.0-py3-none-any.whl (12 kB)\n",
      "Downloading w3lib-2.1.2-py3-none-any.whl (21 kB)\n",
      "Downloading tldextract-3.6.0-py3-none-any.whl (97 kB)\n",
      "\u001b[2K   \u001b[90m━━━━━━━━━━━━━━━━━━━━━━━━━━━━━━━━━━━━━━━━\u001b[0m \u001b[32m97.4/97.4 kB\u001b[0m \u001b[31m556.6 kB/s\u001b[0m eta \u001b[36m0:00:00\u001b[0ma \u001b[36m0:00:01\u001b[0m\n",
      "\u001b[?25hInstalling collected packages: PyDispatcher, incremental, constantly, zope.interface, w3lib, queuelib, protego, jmespath, itemadapter, hyperlink, cssselect, Automat, Twisted, requests-file, parsel, cryptography, tldextract, service-identity, pyOpenSSL, itemloaders, scrapy\n"
     ]
    },
    {
     "name": "stdout",
     "output_type": "stream",
     "text": [
      "Successfully installed Automat-22.10.0 PyDispatcher-2.0.7 Twisted-22.10.0 constantly-15.1.0 cryptography-41.0.4 cssselect-1.2.0 hyperlink-21.0.0 incremental-22.10.0 itemadapter-0.8.0 itemloaders-1.1.0 jmespath-1.0.1 parsel-1.8.1 protego-0.3.0 pyOpenSSL-23.2.0 queuelib-1.6.2 requests-file-1.5.1 scrapy-2.11.0 service-identity-23.1.0 tldextract-3.6.0 w3lib-2.1.2 zope.interface-6.0\n",
      "Note: you may need to restart the kernel to use updated packages.\n"
     ]
    }
   ],
   "source": [
    "pip install scrapy"
   ]
  },
  {
   "cell_type": "code",
   "execution_count": 9,
   "id": "24059441",
   "metadata": {},
   "outputs": [
    {
     "ename": "ModuleNotFoundError",
     "evalue": "No module named 'scrapy'",
     "output_type": "error",
     "traceback": [
      "\u001b[0;31m---------------------------------------------------------------------------\u001b[0m",
      "\u001b[0;31mModuleNotFoundError\u001b[0m                       Traceback (most recent call last)",
      "Cell \u001b[0;32mIn [9], line 1\u001b[0m\n\u001b[0;32m----> 1\u001b[0m \u001b[38;5;28;01mimport\u001b[39;00m \u001b[38;5;21;01mscrapy\u001b[39;00m\n",
      "\u001b[0;31mModuleNotFoundError\u001b[0m: No module named 'scrapy'"
     ]
    }
   ],
   "source": [
    "import scrapy\n",
    "# import scrapy-rotating-proxies"
   ]
  },
  {
   "cell_type": "code",
   "execution_count": 1,
   "id": "d7715e33",
   "metadata": {},
   "outputs": [],
   "source": [
    "ROTATING_PROXY_LIST = [\n",
    "    'proxy1.com:8000',\n",
    "    'proxy2.com:8031',\n",
    "    # ...\n",
    "]"
   ]
  },
  {
   "cell_type": "code",
   "execution_count": null,
   "id": "197b792c",
   "metadata": {},
   "outputs": [],
   "source": [
    "import httpx_rotate\n",
    "from httpx_rotate import proxies\n",
    "\n",
    "# Define your list of proxies\n",
    "proxy_list = [\n",
    "    \"http://proxy1.com:8080\",\n",
    "    \"http://proxy2.com:8080\",\n",
    "    # ... add more proxies as needed\n",
    "]\n",
    "\n",
    "# Add your proxies to the rotation\n",
    "proxies.extend(proxy_list)\n",
    "\n",
    "# Create a rotating client\n",
    "client = httpx_rotate.RotateProxies()\n",
    "\n",
    "# Make requests using the rotating client\n",
    "response = client.get(\"https://www.example.com\")\n",
    "print(response.status_code)\n"
   ]
  },
  {
   "cell_type": "code",
   "execution_count": 2,
   "id": "0baaf66c",
   "metadata": {},
   "outputs": [],
   "source": [
    "# proxy rotation service"
   ]
  },
  {
   "cell_type": "markdown",
   "id": "b25e588f",
   "metadata": {},
   "source": [
    "# User Agent"
   ]
  },
  {
   "cell_type": "code",
   "execution_count": 7,
   "id": "b271c06d",
   "metadata": {},
   "outputs": [],
   "source": [
    "# retrieving mine\n",
    "# user agent public dbs\n",
    "# fake user agent libs\n",
    "# collect from real traffic\n",
    "# generate list of user agents"
   ]
  },
  {
   "cell_type": "code",
   "execution_count": 131,
   "id": "e5421068",
   "metadata": {},
   "outputs": [],
   "source": [
    "import random\n",
    "from fake_useragent import UserAgent"
   ]
  },
  {
   "cell_type": "code",
   "execution_count": 132,
   "id": "2e17515a",
   "metadata": {},
   "outputs": [],
   "source": [
    "ua = UserAgent()"
   ]
  },
  {
   "cell_type": "code",
   "execution_count": 133,
   "id": "2cf1e6fb",
   "metadata": {},
   "outputs": [],
   "source": [
    "browsers = [\"random\", \"chrome\", \"edge\", \"google\", \"google chrome\", \"firefox\", \"ff\", \"safari\"]"
   ]
  },
  {
   "cell_type": "code",
   "execution_count": 134,
   "id": "2411ac04",
   "metadata": {},
   "outputs": [],
   "source": [
    "os = [\"windows\", \"macos\", \"linux\"]"
   ]
  },
  {
   "cell_type": "code",
   "execution_count": 135,
   "id": "b6693976",
   "metadata": {},
   "outputs": [],
   "source": [
    "min_per = [0.5, 0.6, 0.7, 0.8, 0.9, 1.1, 1.2, 1.3, 1.5]"
   ]
  },
  {
   "cell_type": "code",
   "execution_count": 136,
   "id": "34197c0d",
   "metadata": {},
   "outputs": [
    {
     "data": {
      "text/plain": [
       "'firefox'"
      ]
     },
     "execution_count": 136,
     "metadata": {},
     "output_type": "execute_result"
    }
   ],
   "source": [
    "random.choice(browsers)"
   ]
  },
  {
   "cell_type": "code",
   "execution_count": 137,
   "id": "5a7bbea2",
   "metadata": {},
   "outputs": [],
   "source": [
    "ua = UserAgent(browsers=['chrome', 'edge'])"
   ]
  },
  {
   "cell_type": "code",
   "execution_count": 138,
   "id": "e291cc45",
   "metadata": {
    "scrolled": true
   },
   "outputs": [
    {
     "data": {
      "text/plain": [
       "'Mozilla/5.0 (Windows NT 10.0; Win64; x64; rv:109.0) Gecko/20100101 Firefox/115.0'"
      ]
     },
     "execution_count": 138,
     "metadata": {},
     "output_type": "execute_result"
    }
   ],
   "source": [
    "ua = UserAgent(browsers=browsers)\n",
    "ua.random"
   ]
  },
  {
   "cell_type": "code",
   "execution_count": 145,
   "id": "cb17ca4a",
   "metadata": {},
   "outputs": [],
   "source": [
    "def gen_ua(browsers, os, min_per):\n",
    "#     b = random.choice(browsers)\n",
    "    os = random.choice(os)\n",
    "    min_per = random.choice(min_per)\n",
    "    ua = UserAgent(browsers=browsers, os=os, min_percentage=min_per)\n",
    "    ua = ua.random\n",
    "    ua = 'user-agent='+ua\n",
    "    return ua"
   ]
  },
  {
   "cell_type": "code",
   "execution_count": 150,
   "id": "2772959d",
   "metadata": {},
   "outputs": [
    {
     "data": {
      "text/plain": [
       "'user-agent=Mozilla/5.0 (Macintosh; Intel Mac OS X 10_15_7) AppleWebKit/537.36 (KHTML, like Gecko) Chrome/115.0.0.0 Safari/537.36'"
      ]
     },
     "execution_count": 150,
     "metadata": {},
     "output_type": "execute_result"
    }
   ],
   "source": [
    "gen_ua(browsers, os, min_per)"
   ]
  },
  {
   "cell_type": "code",
   "execution_count": 147,
   "id": "c07a4579",
   "metadata": {},
   "outputs": [],
   "source": [
    "ua_list = []\n",
    "\n",
    "for i in range(0,1000):\n",
    "    ua = gen_ua(browsers, os, min_per)\n",
    "    ua_list.append(ua)"
   ]
  },
  {
   "cell_type": "code",
   "execution_count": 148,
   "id": "773b2f81",
   "metadata": {},
   "outputs": [
    {
     "data": {
      "text/plain": [
       "1000"
      ]
     },
     "execution_count": 148,
     "metadata": {},
     "output_type": "execute_result"
    }
   ],
   "source": [
    "len(ua_list)"
   ]
  },
  {
   "cell_type": "markdown",
   "id": "74f26710",
   "metadata": {},
   "source": [
    "# Headless Browsing"
   ]
  },
  {
   "cell_type": "code",
   "execution_count": 1,
   "id": "c6b9641f",
   "metadata": {},
   "outputs": [],
   "source": [
    "# selenium, puppeter, pyppeteer.. scrapy"
   ]
  },
  {
   "cell_type": "code",
   "execution_count": 2,
   "id": "4ef0c03b",
   "metadata": {},
   "outputs": [],
   "source": [
    "import pyppeteer"
   ]
  },
  {
   "cell_type": "code",
   "execution_count": 3,
   "id": "4b3b444f",
   "metadata": {},
   "outputs": [],
   "source": [
    "from selenium import webdriver\n",
    "from selenium.webdriver.common.by import By\n",
    "from selenium.webdriver.common.keys import Keys\n",
    "from selenium.webdriver.chrome.service import Service\n",
    "from webdriver_manager.chrome import ChromeDriverManager\n",
    "from selenium.webdriver.support.ui import WebDriverWait\n",
    "from selenium.webdriver.chrome.options import Options\n",
    "from selenium.common.exceptions import TimeoutException\n",
    "from selenium.webdriver.support import expected_conditions as EC"
   ]
  },
  {
   "cell_type": "code",
   "execution_count": 4,
   "id": "d87be66e",
   "metadata": {},
   "outputs": [],
   "source": [
    "credentials = {\n",
    "  'user': 'inkerscraper',\n",
    "  'password': 'inkertattoo'\n",
    "}\n",
    "\n",
    "website = 'https://instagram.com/'"
   ]
  },
  {
   "cell_type": "code",
   "execution_count": 162,
   "id": "eac3d753",
   "metadata": {},
   "outputs": [],
   "source": [
    "options = webdriver.ChromeOptions()\n",
    "options.add_argument(\"--incognito\")  # Optional: Use incognito mode which doesn't use cache\n",
    "options.add_argument(\"--disable-cache\")  # Disable the cache\n",
    "options.add_argument(\"--no-sandbox\")\n",
    "options.add_argument(\"--disable-application-cache\")\n",
    "options.add_experimental_option(\"detach\", True)\n",
    "options.add_argument(gen_ua(browsers, os, min_per))\n",
    "\n",
    "driver = webdriver.Chrome(options=options)\n",
    "driver.get('https://www.instagram.com')"
   ]
  },
  {
   "cell_type": "code",
   "execution_count": 164,
   "id": "68d74096",
   "metadata": {},
   "outputs": [],
   "source": [
    "# # def chrome_options():\n",
    "# chrome_options = Options()\n",
    "# chrome_options.add_experimental_option(\"detach\", True)\n",
    "# chrome_options.add_argument(gen_ua(browsers, os, min_per))\n",
    "# # chrome_options.add_experimental_option(\"debuggerAddress\", \"127.0.0.1:9222\")\n",
    "# #     return chrome_options"
   ]
  },
  {
   "cell_type": "code",
   "execution_count": 165,
   "id": "2824b654",
   "metadata": {},
   "outputs": [],
   "source": [
    "chrome_options = webdriver.ChromeOptions()\n",
    "chrome_options.add_argument(\"--incognito\")  # Optional: Use incognito mode which doesn't use cache\n",
    "chrome_options.add_argument(\"--disable-cache\")  # Disable the cache\n",
    "chrome_options.add_argument(\"--no-sandbox\")\n",
    "chrome_options.add_argument(\"--disable-application-cache\")\n",
    "chrome_options.add_experimental_option(\"detach\", True)\n",
    "chrome_options.add_argument(gen_ua(browsers, os, min_per))"
   ]
  },
  {
   "cell_type": "code",
   "execution_count": 167,
   "id": "0c8fc04c",
   "metadata": {},
   "outputs": [],
   "source": [
    "def open_driver(website):\n",
    "    # driver = webdriver.Chrome('/Users/vzucher/Downloads/chromedriver/chromedriver')\n",
    "    # driver = webdriver.Chrome(service=Service(ChromeDriverManager().install()))\n",
    "#     opts = chrome_options()\n",
    "    driver = webdriver.Chrome(options=chrome_options)\n",
    "    print('[........opening instagram website.....]')\n",
    "    driver.get(website)\n",
    "    driver.implicitly_wait(10)\n",
    "    return driver"
   ]
  },
  {
   "cell_type": "code",
   "execution_count": 168,
   "id": "ba16ec2d",
   "metadata": {},
   "outputs": [],
   "source": [
    "def login(credentials, driver):\n",
    "  \n",
    "    wait = WebDriverWait(driver, 30)\n",
    "    login = wait.until(EC.element_to_be_clickable((By.NAME, \"username\"))).click()\n",
    "    login = driver.find_element(By.NAME, 'username')\n",
    "    login.send_keys(credentials['user'])\n",
    "    driver.implicitly_wait(10)\n",
    "\n",
    "\n",
    "    password = driver.find_element(By.NAME,\"password\")\n",
    "    password.click()\n",
    "    password.send_keys(credentials['password'])\n",
    "\n",
    "    driver.implicitly_wait(10)\n",
    "    btn = driver.find_element(By.XPATH,'/html/body/div[2]/div/div/div[2]/div/div/div/div[1]/section/main/article/div[2]/div[1]/div[2]/form/div/div[3]/button')\n",
    "    btn.click()\n",
    "    return driver"
   ]
  },
  {
   "cell_type": "code",
   "execution_count": 169,
   "id": "27e378c5",
   "metadata": {},
   "outputs": [],
   "source": [
    "from selenium.common.exceptions import WebDriverException\n",
    "\n",
    "def is_driver_active(driver):\n",
    "    try:\n",
    "        # Attempt to get the current URL. If the driver is not active, this will raise an exception.\n",
    "        current_url = driver.current_url\n",
    "        print(\"Driver is active!\")\n",
    "        return True\n",
    "    except WebDriverException:\n",
    "        print(\"Driver is not active!\")\n",
    "        return False"
   ]
  },
  {
   "cell_type": "code",
   "execution_count": 170,
   "id": "f3928cdc",
   "metadata": {},
   "outputs": [],
   "source": [
    "def js_element(driver, xpath):\n",
    "    \n",
    "    try:\n",
    "        \n",
    "        e = WebDriverWait(driver, 4).until(\n",
    "            EC.presence_of_element_located((By.XPATH, xpath))\n",
    "        )\n",
    "        \n",
    "#         btn.click()\n",
    "        is_driver_active(driver)\n",
    "        return driver, e\n",
    "        \n",
    "    except TimeoutException:\n",
    "        \n",
    "        try:\n",
    "            e = WebDriverWait(driver, 3).until(\n",
    "                EC.visibility_of_element_located((By.XPATH, xpath))\n",
    "            )\n",
    "            \n",
    "#             btn.click()\n",
    "            return driver, e\n",
    "            \n",
    "        except TimeoutException:\n",
    "            print(f\"Element not found with {xpath}\")\n",
    "            return driver, None"
   ]
  },
  {
   "cell_type": "code",
   "execution_count": 171,
   "id": "5f634c9f",
   "metadata": {},
   "outputs": [],
   "source": [
    "def handling_popup(driver):\n",
    "    \n",
    "    xpath = \"/html/body/div[3]/div[1]/div/div[2]/div/div/div/div/div[2]/div/div\"\n",
    "    btn = '/html/body/div[3]/div[1]/div/div[2]/div/div/div/div/div[2]/div/div/div[3]/button[2]'\n",
    "    driver, btn = js_element(driver, xpath)\n",
    "#     btn = driver.find_element(By.XPATH, btn)\n",
    "    btn.click()\n",
    "#     driver.implicitly_wait(10)        \n",
    "    return driver"
   ]
  },
  {
   "cell_type": "code",
   "execution_count": 172,
   "id": "f13836e8",
   "metadata": {},
   "outputs": [],
   "source": [
    "import requests\n",
    "from bs4 import BeautifulSoup"
   ]
  },
  {
   "cell_type": "code",
   "execution_count": 173,
   "id": "1db01b89",
   "metadata": {},
   "outputs": [],
   "source": [
    "tag = ['tattoos']\n",
    "tags = ['tattoo', 'tattoos', 'tattoo art']"
   ]
  },
  {
   "cell_type": "code",
   "execution_count": 174,
   "id": "11d87f6c",
   "metadata": {},
   "outputs": [],
   "source": [
    "posts_xpaths = [\n",
    "    '/html/body/div[2]/div/div/div[2]/div/div/div/div[1]/div[1]/div[2]/section/main/article/div/div/div/div[1]/div[1]/a/div[1]/div[2].',\n",
    "    '/html/body/div[2]/div/div/div[2]/div/div/div/div[1]/div[1]/div[2]/section/main/article/div/div/div/div[1]/div[2]/a/div[1]/div[2]',\n",
    "    '/html/body/div[2]/div/div/div[2]/div/div/div/div[1]/div[1]/div[2]/section/main/article/div/div/div/div[1]/div[3]/a/div[1]/div[2]',\n",
    "    '/html/body/div[2]/div/div/div[2]/div/div/div/div[1]/div[1]/div[2]/section/main/article/div/div/div/div[2]/div[1]/a/div[1]/div[2]',\n",
    "    '/html/body/div[2]/div/div/div[2]/div/div/div/div[1]/div[1]/div[2]/section/main/article/div/div/div/div[2]/div[2]/a/div[1]/div[2]',\n",
    "    '/html/body/div[2]/div/div/div[2]/div/div/div/div[1]/div[1]/div[2]/section/main/article/div/div/div/div[2]/div[3]/a/div[1]/div[2]',\n",
    "    '/html/body/div[2]/div/div/div[2]/div/div/div/div[1]/div[1]/div[2]/section/main/article/div/div/div/div[3]/div[1]/a/div[1]/div[2]',\n",
    "    '/html/body/div[2]/div/div/div[2]/div/div/div/div[1]/div[1]/div[2]/section/main/article/div/div/div/div[3]/div[2]/a/div[1]/div[2]',\n",
    "    '/html/body/div[2]/div/div/div[2]/div/div/div/div[1]/div[1]/div[2]/section/main/article/div/div/div/div[3]/div[3]/a/div[1]/div[2]',\n",
    "    '/html/body/div[2]/div/div/div[2]/div/div/div/div[1]/div[1]/div[2]/section/main/article/div/div/div/div[4]/div[1]/a/div[1]/div[2]',\n",
    "    '/html/body/div[2]/div/div/div[2]/div/div/div/div[1]/div[1]/div[2]/section/main/article/div/div/div/div[4]/div[2]/a/div[1]/div[2]',\n",
    "    '/html/body/div[2]/div/div/div[2]/div/div/div/div[1]/div[1]/div[2]/section/main/article/div/div/div/div[4]/div[3]/a/div[1]/div[2]',\n",
    "    '/html/body/div[2]/div/div/div[2]/div/div/div/div[1]/div[1]/div[2]/section/main/article/div/div/div/div[5]/div[1]/a/div[1]/div[2]',\n",
    "    '/html/body/div[2]/div/div/div[2]/div/div/div/div[1]/div[1]/div[2]/section/main/article/div/div/div/div[5]/div[2]/a/div[1]/div[2]',\n",
    "    '/html/body/div[2]/div/div/div[2]/div/div/div/div[1]/div[1]/div[2]/section/main/article/div/div/div/div[5]/div[3]/a/div[1]/div[2]',\n",
    "    '/html/body/div[2]/div/div/div[2]/div/div/div/div[1]/div[1]/div[2]/section/main/article/div/div/div/div[6]/div[1]/a/div[1]/div[2]',\n",
    "    '/html/body/div[2]/div/div/div[2]/div/div/div/div[1]/div[1]/div[2]/section/main/article/div/div/div/div[6]/div[2]/a/div[1]/div[2]',\n",
    "    '/html/body/div[2]/div/div/div[2]/div/div/div/div[1]/div[1]/div[2]/section/main/article/div/div/div/div[6]/div[3]/a/div[1]/div[2]',\n",
    "    '/html/body/div[2]/div/div/div[2]/div/div/div/div[1]/div[1]/div[2]/section/main/article/div/div/div/div[7]/div[1]/a/div[1]/div[2]',\n",
    "    '/html/body/div[2]/div/div/div[2]/div/div/div/div[1]/div[1]/div[2]/section/main/article/div/div/div/div[7]/div[2]/a/div[1]/div[2]',\n",
    "    '/html/body/div[2]/div/div/div[2]/div/div/div/div[1]/div[1]/div[2]/section/main/article/div/div/div/div[7]/div[3]/a/div[1]/div[2]',\n",
    "    '/html/body/div[2]/div/div/div[2]/div/div/div/div[1]/div[1]/div[2]/section/main/article/div/div/div/div[8]/div[1]/a/div[1]/div[2]',\n",
    "    '/html/body/div[2]/div/div/div[2]/div/div/div/div[1]/div[1]/div[2]/section/main/article/div/div/div/div[8]/div[2]/a/div[1]/div[2]',\n",
    "    '/html/body/div[2]/div/div/div[2]/div/div/div/div[1]/div[1]/div[2]/section/main/article/div/div/div/div[8]/div[3]/a/div[1]/div[2]',\n",
    "    '/html/body/div[2]/div/div/div[2]/div/div/div/div[1]/div[1]/div[2]/section/main/article/div/div/div/div[9]/div[1]/a/div[1]/div[2]',\n",
    "    '/html/body/div[2]/div/div/div[2]/div/div/div/div[1]/div[1]/div[2]/section/main/article/div/div/div/div[9]/div[2]/a/div[1]/div[2]',\n",
    "    '/html/body/div[2]/div/div/div[2]/div/div/div/div[1]/div[1]/div[2]/section/main/article/div/div/div/div[9]/div[3]/a/div[1]/div[2]',\n",
    "    '/html/body/div[2]/div/div/div[2]/div/div/div/div[1]/div[1]/div[2]/section/main/article/div/div/div/div[10]/div[1]/a/div[1]/div[2]'\n",
    "]"
   ]
  },
  {
   "cell_type": "code",
   "execution_count": 5,
   "id": "a02feb86",
   "metadata": {
    "scrolled": false
   },
   "outputs": [
    {
     "ename": "NameError",
     "evalue": "name 'open_driver' is not defined",
     "output_type": "error",
     "traceback": [
      "\u001b[0;31m---------------------------------------------------------------------------\u001b[0m",
      "\u001b[0;31mNameError\u001b[0m                                 Traceback (most recent call last)",
      "Cell \u001b[0;32mIn [5], line 1\u001b[0m\n\u001b[0;32m----> 1\u001b[0m driver \u001b[38;5;241m=\u001b[39m \u001b[43mopen_driver\u001b[49m(url)\n\u001b[1;32m      2\u001b[0m xpath \u001b[38;5;241m=\u001b[39m \u001b[38;5;124m'\u001b[39m\u001b[38;5;124m/html/body/div[2]/div/div/div[2]/div/div/div/div[1]/section/main/article/div/div/div/div[1]/div[1]/a/div[1]/div[2]\u001b[39m\u001b[38;5;124m'\u001b[39m\n\u001b[1;32m      3\u001b[0m \u001b[38;5;66;03m# driver, e = js_element(driver, xpath)\u001b[39;00m\n\u001b[1;32m      4\u001b[0m \u001b[38;5;66;03m# e.click()\u001b[39;00m\n",
      "\u001b[0;31mNameError\u001b[0m: name 'open_driver' is not defined"
     ]
    }
   ],
   "source": [
    "driver = open_driver(url)\n",
    "xpath = '/html/body/div[2]/div/div/div[2]/div/div/div/div[1]/section/main/article/div/div/div/div[1]/div[1]/a/div[1]/div[2]'\n",
    "# driver, e = js_element(driver, xpath)\n",
    "# e.click()\n",
    "driver, p = js_element(driver, xpath)\n",
    "p.click()\n",
    "u = driver.current_url\n",
    "print(u)\n",
    "# driver.get(es[0])\n",
    "# u = driver.current_url\n",
    "# print(u)"
   ]
  },
  {
   "cell_type": "code",
   "execution_count": 413,
   "id": "15863a16",
   "metadata": {},
   "outputs": [],
   "source": [
    "def search_tag(driver, tags):\n",
    "    is_driver_active(driver)\n",
    "    \n",
    "    \n",
    "    def gen_urls(tags):\n",
    "    \n",
    "        urls = []\n",
    "        for tag in tags:\n",
    "            new_url = f\"https://www.instagram.com/explore/tags/{tag}/\"\n",
    "            print(new_url)\n",
    "            urls.append(new_url)\n",
    "            \n",
    "        print('URLs generated successfully')\n",
    "            \n",
    "        return urls\n",
    "        \n",
    "    \n",
    "    def get_htmls(urls):\n",
    "        \n",
    "        htmls = []\n",
    "        \n",
    "        for url in urls:\n",
    "            print(f\"fetching {url} for tag: **{tag}**\")\n",
    "    #         driver.get(url)\n",
    "\n",
    "            response = requests.get(url)\n",
    "\n",
    "            if response.status_code == 200:   \n",
    "\n",
    "                html = response.text\n",
    "                htmls.append(html)\n",
    "                \n",
    "        print('HTMLs stored successfully')\n",
    "    \n",
    "        return htmls\n",
    "    \n",
    "\n",
    "    def get_soups(htmls):\n",
    "    \n",
    "        soups = []\n",
    "        for html in htmls:\n",
    "            \n",
    "            soup = BeautifulSoup(html, 'html.parser')\n",
    "            soups.append(soup)\n",
    "            \n",
    "        return soups\n",
    "\n",
    "\n",
    "    def get_posts_url(soups):\n",
    "        \n",
    "        post_urls = []\n",
    "#         post_on_grid_class = '_aagw'\n",
    "        xpath = ''\n",
    "        \n",
    "        elements_arr = []\n",
    "        \n",
    "        for soup in soups:\n",
    "            \n",
    "            elements = soup.find_all(class_=post_on_grid_class)\n",
    "            elements_arr.append(elements)\n",
    "            print(f\"Your Array of Elements Arrays is of length:{len(elements_arr)}\")\n",
    "        \n",
    "        for elements in elements_arr:\n",
    "            \n",
    "            for e in elements:\n",
    "\n",
    "            driver.find_element(By.XPATH, xpath).click()\n",
    "            url = driver.current_url\n",
    "            print(f\"The URL for this post now is {url}\")\n",
    "            post_urls.append(url)\n",
    "        return post_urls\n",
    "    \n",
    "    def run(driver,tags):\n",
    "        \n",
    "        urls = gen_urls(tags)\n",
    "        htmls = get_htmls(urls)\n",
    "        soups = get_soups(htmls)\n",
    "        post_urls = get_posts_url(soups)\n",
    "        \n",
    "        return post_urls\n",
    "    \n",
    "    run(driver,tags)\n",
    "        \n",
    "    return driver, post_urls"
   ]
  },
  {
   "cell_type": "code",
   "execution_count": 414,
   "id": "a491b804",
   "metadata": {},
   "outputs": [
    {
     "name": "stdout",
     "output_type": "stream",
     "text": [
      "[........opening instagram website.....]\n",
      "Element not found with /html/body/div[3]/div[1]/div/div[2]/div/div/div/div/div[2]/div/div\n",
      "Driver is active!\n",
      "https://www.instagram.com/explore/tags/t/\n",
      "https://www.instagram.com/explore/tags/a/\n",
      "https://www.instagram.com/explore/tags/t/\n",
      "https://www.instagram.com/explore/tags/t/\n",
      "https://www.instagram.com/explore/tags/o/\n",
      "https://www.instagram.com/explore/tags/o/\n",
      "https://www.instagram.com/explore/tags/s/\n",
      "URLs generated successfully\n",
      "fetching https://www.instagram.com/explore/tags/t/ for tag tattoos\n",
      "fetching https://www.instagram.com/explore/tags/a/ for tag tattoos\n",
      "fetching https://www.instagram.com/explore/tags/t/ for tag tattoos\n",
      "fetching https://www.instagram.com/explore/tags/t/ for tag tattoos\n",
      "fetching https://www.instagram.com/explore/tags/o/ for tag tattoos\n",
      "fetching https://www.instagram.com/explore/tags/o/ for tag tattoos\n",
      "fetching https://www.instagram.com/explore/tags/s/ for tag tattoos\n",
      "HTMLs stored successfully\n"
     ]
    },
    {
     "ename": "NameError",
     "evalue": "name 'soup' is not defined",
     "output_type": "error",
     "traceback": [
      "\u001b[0;31m---------------------------------------------------------------------------\u001b[0m",
      "\u001b[0;31mNameError\u001b[0m                                 Traceback (most recent call last)",
      "Cell \u001b[0;32mIn [414], line 4\u001b[0m\n\u001b[1;32m      2\u001b[0m driver \u001b[38;5;241m=\u001b[39m login(credentials, driver)\n\u001b[1;32m      3\u001b[0m driver \u001b[38;5;241m=\u001b[39m handling_popup(driver)\n\u001b[0;32m----> 4\u001b[0m \u001b[43msearch_tag\u001b[49m\u001b[43m(\u001b[49m\u001b[43mdriver\u001b[49m\u001b[43m,\u001b[49m\u001b[43m \u001b[49m\u001b[38;5;124;43m'\u001b[39;49m\u001b[38;5;124;43mtattoos\u001b[39;49m\u001b[38;5;124;43m'\u001b[39;49m\u001b[43m)\u001b[49m\n",
      "Cell \u001b[0;32mIn [413], line 73\u001b[0m, in \u001b[0;36msearch_tag\u001b[0;34m(driver, tags)\u001b[0m\n\u001b[1;32m     69\u001b[0m     post_urls \u001b[38;5;241m=\u001b[39m get_posts_url(soups)\n\u001b[1;32m     71\u001b[0m     \u001b[38;5;28;01mreturn\u001b[39;00m post_urls\n\u001b[0;32m---> 73\u001b[0m \u001b[43mrun\u001b[49m\u001b[43m(\u001b[49m\u001b[43mdriver\u001b[49m\u001b[43m,\u001b[49m\u001b[43mtags\u001b[49m\u001b[43m)\u001b[49m\n\u001b[1;32m     75\u001b[0m \u001b[38;5;28;01mreturn\u001b[39;00m driver, post_urls\n",
      "Cell \u001b[0;32mIn [413], line 69\u001b[0m, in \u001b[0;36msearch_tag.<locals>.run\u001b[0;34m(driver, tags)\u001b[0m\n\u001b[1;32m     67\u001b[0m htmls \u001b[38;5;241m=\u001b[39m get_htmls(urls)\n\u001b[1;32m     68\u001b[0m soups \u001b[38;5;241m=\u001b[39m get_soups(htmls)\n\u001b[0;32m---> 69\u001b[0m post_urls \u001b[38;5;241m=\u001b[39m \u001b[43mget_posts_url\u001b[49m\u001b[43m(\u001b[49m\u001b[43msoups\u001b[49m\u001b[43m)\u001b[49m\n\u001b[1;32m     71\u001b[0m \u001b[38;5;28;01mreturn\u001b[39;00m post_urls\n",
      "Cell \u001b[0;32mIn [413], line 54\u001b[0m, in \u001b[0;36msearch_tag.<locals>.get_posts_url\u001b[0;34m(soups)\u001b[0m\n\u001b[1;32m     51\u001b[0m post_urls \u001b[38;5;241m=\u001b[39m []\n\u001b[1;32m     53\u001b[0m post_on_grid_class \u001b[38;5;241m=\u001b[39m \u001b[38;5;124m'\u001b[39m\u001b[38;5;124m_aagw\u001b[39m\u001b[38;5;124m'\u001b[39m\n\u001b[0;32m---> 54\u001b[0m es \u001b[38;5;241m=\u001b[39m \u001b[43msoup\u001b[49m\u001b[38;5;241m.\u001b[39mfind_all(class_\u001b[38;5;241m=\u001b[39mpost_on_grid_class)\n\u001b[1;32m     56\u001b[0m \u001b[38;5;28;01mfor\u001b[39;00m e \u001b[38;5;129;01min\u001b[39;00m es:\n\u001b[1;32m     58\u001b[0m     driver\u001b[38;5;241m.\u001b[39mfind_element(By\u001b[38;5;241m.\u001b[39mCLASS_NAME, post_on_grid_class)\u001b[38;5;241m.\u001b[39mclick()\n",
      "\u001b[0;31mNameError\u001b[0m: name 'soup' is not defined"
     ]
    }
   ],
   "source": [
    "driver = open_driver(website)\n",
    "driver = login(credentials, driver)\n",
    "driver = handling_popup(driver)\n",
    "search_tag(driver, 'tattoos')"
   ]
  },
  {
   "cell_type": "code",
   "execution_count": 360,
   "id": "e79783dc",
   "metadata": {},
   "outputs": [],
   "source": [
    "new_url = f\"https://www.instagram.com/explore/tags/{tag}/\""
   ]
  },
  {
   "cell_type": "code",
   "execution_count": 375,
   "id": "337012f5",
   "metadata": {},
   "outputs": [],
   "source": [
    "def visit_profile(driver):\n",
    "    driver.find_element(By.XPATH,'/html/body/div[1]/div[2]/main/div[1]/div[2]/div/div[1]/div[2]/div[1]/div/div[1]/div/a/div[3]/div[1]/span').click()\n",
    "    driver.implicitly_wait(30)\n",
    "    url = driver.current_url\n",
    "    return url"
   ]
  },
  {
   "cell_type": "code",
   "execution_count": null,
   "id": "f845cef3",
   "metadata": {},
   "outputs": [],
   "source": [
    "credentials = {\n",
    "  'user': 'inkerscraper',\n",
    "  'password': 'inkertattoo'\n",
    "}\n",
    "website = 'https://instagram.com/'\n",
    "\n",
    "# dictionary o f users\n",
    "\n",
    "users = {'user': [],\n",
    "         'link': []}\n",
    "\n",
    "# instantiating webdriver options\n",
    "\n",
    "chrome_options = Options()\n",
    "chrome_options.add_experimental_option(\"detach\", True)\n",
    "\n",
    "# Creating the Dataframe to be the Database\n",
    "\n",
    "users_df = pd.DataFrame(columns=['user', 'link'])\n",
    "\n",
    "# instantiating webdriver chromedriver\n",
    "\n",
    "def open_driver(website):\n",
    "    # driver = webdriver.Chrome('/Users/vzucher/Downloads/chromedriver/chromedriver')\n",
    "    # driver = webdriver.Chrome(service=Service(ChromeDriverManager().install()))\n",
    "    \n",
    "    driver = webdriver.Chrome(options=chrome_options)\n",
    "    print('[........opening instagram website.....]')\n",
    "    driver.get(website)\n",
    "    driver.implicitly_wait(25)\n",
    "    return driver\n",
    "\n",
    "# calling webdriver instatiating method\n",
    "\n",
    "\n",
    "def login(credentials, driver):\n",
    "  \n",
    "    wait = WebDriverWait(driver, 100)\n",
    "    login = wait.until(EC.element_to_be_clickable((By.NAME, \"username\"))).click()\n",
    "    login = driver.find_element(By.NAME, 'username')\n",
    "    login.send_keys(credentials['user'])\n",
    "    driver.implicitly_wait(20)\n",
    "\n",
    "\n",
    "    password = driver.find_element(By.NAME,\"password\")\n",
    "    password.click()\n",
    "    password.send_keys(credentials['password'])\n",
    "\n",
    "    driver.implicitly_wait(30)\n",
    "    btn = driver.find_element(By.XPATH,'/html/body/div[2]/div/div/div[1]/div/div/div/div[1]/section/main/article/div[2]/div[1]/div[2]/form/div/div[3]/button')\n",
    "    btn.click()\n",
    "    return driver\n",
    "\n",
    "def visit_profile(driver):\n",
    "    driver.find_element(By.XPATH,'/html/body/div[1]/div[2]/main/div[1]/div[2]/div/div[1]/div[2]/div[1]/div/div[1]/div/a/div[3]/div[1]/span').click()\n",
    "    driver.implicitly_wait(30)\n",
    "    url = driver.current_url\n",
    "    return url\n",
    "  \n",
    "def get_username(driver,url):\n",
    "  username = driver.find_element(By.XPATH,'/html/body/div[1]/div[2]/main/div[1]/div/div/div[2]/div/div[2]/div[1]/div[2]/div[2]/div[1]/div').text\n",
    "  users['user'].append(username)\n",
    "  users['link'].append(url)\n",
    "  driver.implicitly_wait(40)\n",
    "  driver.back()\n",
    "  driver.implicitly_wait(40)\n",
    "  return users\n",
    "\n",
    "def dict_to_df(users):\n",
    "  users_df = pd.DataFrame.from_dict(users)\n",
    "  return users_df\n",
    "\n",
    "def run_all():\n",
    "  driver = open_driver(website)\n",
    "  driver.implicitly_wait(30)\n",
    "  login(credentials, driver)\n",
    "  url = visit_profile(driver)\n",
    "  users = get_username(driver,url)\n",
    "  users_df = dict_to_df(users)\n",
    "  print(users_df)\n",
    "  return users_df\n",
    "\n",
    "run_all()\n",
    "\n",
    "# Specify the path and filename for the CSV file\n",
    "csv_path = 'scrape/db.csv'\n",
    "users_df.to_csv(csv_path, index=False)"
   ]
  },
  {
   "cell_type": "markdown",
   "id": "caa07501",
   "metadata": {},
   "source": [
    "# Handling Captcha"
   ]
  },
  {
   "cell_type": "code",
   "execution_count": 5,
   "id": "6b37e3ff",
   "metadata": {},
   "outputs": [],
   "source": [
    "# "
   ]
  },
  {
   "cell_type": "markdown",
   "id": "2c35b630",
   "metadata": {},
   "source": [
    "# Rate Limit, Retry"
   ]
  },
  {
   "cell_type": "code",
   "execution_count": null,
   "id": "bebb4d6f",
   "metadata": {},
   "outputs": [],
   "source": []
  },
  {
   "cell_type": "markdown",
   "id": "49251cfd",
   "metadata": {},
   "source": [
    "# Avoiding Detection"
   ]
  },
  {
   "cell_type": "code",
   "execution_count": null,
   "id": "95cdd606",
   "metadata": {},
   "outputs": [],
   "source": []
  },
  {
   "cell_type": "markdown",
   "id": "b63883d7",
   "metadata": {},
   "source": [
    "# Data Storage, DB"
   ]
  },
  {
   "cell_type": "code",
   "execution_count": 6,
   "id": "370ba2ec",
   "metadata": {},
   "outputs": [],
   "source": [
    "# pandas, csv, postgres sql db"
   ]
  },
  {
   "cell_type": "markdown",
   "id": "962bfbab",
   "metadata": {},
   "source": [
    "# Monitoring Alerts"
   ]
  },
  {
   "cell_type": "code",
   "execution_count": null,
   "id": "2f72f80a",
   "metadata": {},
   "outputs": [],
   "source": []
  },
  {
   "cell_type": "markdown",
   "id": "e8eab620",
   "metadata": {},
   "source": [
    "# Robots.txt"
   ]
  },
  {
   "cell_type": "code",
   "execution_count": null,
   "id": "37f4a95c",
   "metadata": {},
   "outputs": [],
   "source": []
  },
  {
   "cell_type": "markdown",
   "id": "70ac7e22",
   "metadata": {},
   "source": [
    "# Deploying"
   ]
  }
 ],
 "metadata": {
  "kernelspec": {
   "display_name": "Python 3 (ipykernel)",
   "language": "python",
   "name": "python3"
  },
  "language_info": {
   "codemirror_mode": {
    "name": "ipython",
    "version": 3
   },
   "file_extension": ".py",
   "mimetype": "text/x-python",
   "name": "python",
   "nbconvert_exporter": "python",
   "pygments_lexer": "ipython3",
   "version": "3.10.6"
  },
  "toc": {
   "base_numbering": 1,
   "nav_menu": {},
   "number_sections": true,
   "sideBar": true,
   "skip_h1_title": false,
   "title_cell": "Table of Contents",
   "title_sidebar": "Contents",
   "toc_cell": false,
   "toc_position": {},
   "toc_section_display": true,
   "toc_window_display": false
  }
 },
 "nbformat": 4,
 "nbformat_minor": 5
}
