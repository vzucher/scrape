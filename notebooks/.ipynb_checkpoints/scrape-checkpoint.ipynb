{
 "cells": [
  {
   "cell_type": "code",
   "execution_count": 6,
   "id": "15fb48ba",
   "metadata": {},
   "outputs": [],
   "source": [
    "# Proxy Rotation\n",
    "# User Agent Gen\n",
    "# Headless Browsing\n",
    "# Handling Captcha\n",
    "# Rate Limit, Retry\n",
    "# Avoiding Detection\n",
    "# Data Storage, DB Gen\n",
    "# Monitoring Alerts\n",
    "# Robots.txt\n",
    "# Deploying"
   ]
  },
  {
   "cell_type": "markdown",
   "id": "7d1b9538",
   "metadata": {},
   "source": [
    "# Proxy Rotation"
   ]
  },
  {
   "cell_type": "code",
   "execution_count": 4,
   "id": "7c910f0d",
   "metadata": {},
   "outputs": [],
   "source": [
    "import scrapy\n",
    "# import scrapy-rotating-proxies"
   ]
  },
  {
   "cell_type": "code",
   "execution_count": 5,
   "id": "ee5bc7b4",
   "metadata": {},
   "outputs": [],
   "source": [
    "ROTATING_PROXY_LIST = [\n",
    "    'proxy1.com:8000',\n",
    "    'proxy2.com:8031',\n",
    "    # ...\n",
    "]"
   ]
  },
  {
   "cell_type": "code",
   "execution_count": 6,
   "id": "f6b186ae",
   "metadata": {},
   "outputs": [],
   "source": [
    "# import httpx_rotate\n",
    "# from httpx_rotate import proxies\n",
    "\n",
    "# Define your list of proxies\n",
    "proxy_list = [\n",
    "    \"http://proxy1.com:8080\",\n",
    "    \"http://proxy2.com:8080\",\n",
    "    # ... add more proxies as needed\n",
    "]\n",
    "\n",
    "# # Add your proxies to the rotation\n",
    "# proxies.extend(proxy_list)\n",
    "\n",
    "# # Create a rotating client\n",
    "# client = httpx_rotate.RotateProxies()\n",
    "\n",
    "# # Make requests using the rotating client\n",
    "# response = client.get(\"https://www.example.com\")\n",
    "# print(response.status_code)\n"
   ]
  },
  {
   "cell_type": "code",
   "execution_count": 7,
   "id": "6ca58557",
   "metadata": {},
   "outputs": [],
   "source": [
    "# proxy rotation service"
   ]
  },
  {
   "cell_type": "markdown",
   "id": "4940ac62",
   "metadata": {},
   "source": [
    "# User Agent"
   ]
  },
  {
   "cell_type": "code",
   "execution_count": 8,
   "id": "9f7e0e02",
   "metadata": {},
   "outputs": [],
   "source": [
    "# retrieving mine\n",
    "# user agent public dbs\n",
    "# fake user agent libs\n",
    "# collect from real traffic\n",
    "# generate list of user agents"
   ]
  },
  {
   "cell_type": "code",
   "execution_count": 9,
   "id": "a26698ad",
   "metadata": {},
   "outputs": [],
   "source": [
    "import random\n",
    "from fake_useragent import UserAgent"
   ]
  },
  {
   "cell_type": "code",
   "execution_count": 10,
   "id": "ff9abe2e",
   "metadata": {},
   "outputs": [],
   "source": [
    "browsers = [\"random\", \"chrome\", \"edge\", \"google\", \"google chrome\", \"firefox\", \"ff\", \"safari\"]"
   ]
  },
  {
   "cell_type": "code",
   "execution_count": 11,
   "id": "dd594ba3",
   "metadata": {},
   "outputs": [],
   "source": [
    "os = [\"windows\", \"macos\", \"linux\"]"
   ]
  },
  {
   "cell_type": "code",
   "execution_count": 12,
   "id": "c5603e58",
   "metadata": {},
   "outputs": [],
   "source": [
    "min_per = [0.5, 0.6, 0.7, 0.8, 0.9, 1.1, 1.2, 1.3, 1.5]"
   ]
  },
  {
   "cell_type": "code",
   "execution_count": 13,
   "id": "a6e764d9",
   "metadata": {
    "scrolled": true
   },
   "outputs": [
    {
     "data": {
      "text/plain": [
       "'Mozilla/5.0 (X11; Linux x86_64) AppleWebKit/537.36 (KHTML, like Gecko) Chrome/113.0.0.0 Safari/537.36'"
      ]
     },
     "execution_count": 13,
     "metadata": {},
     "output_type": "execute_result"
    }
   ],
   "source": [
    "ua = UserAgent(browsers=browsers)\n",
    "ua.random"
   ]
  },
  {
   "cell_type": "code",
   "execution_count": 14,
   "id": "d7810256",
   "metadata": {},
   "outputs": [],
   "source": [
    "def gen_ua(browsers, os, min_per):\n",
    "#     b = random.choice(browsers)\n",
    "    os = random.choice(os)\n",
    "    min_per = random.choice(min_per)\n",
    "    ua = UserAgent(browsers=browsers, os=os, min_percentage=min_per)\n",
    "    ua = ua.random\n",
    "    ua = 'user-agent='+ua\n",
    "    return ua"
   ]
  },
  {
   "cell_type": "code",
   "execution_count": 15,
   "id": "e0493478",
   "metadata": {},
   "outputs": [
    {
     "data": {
      "text/plain": [
       "'user-agent=Mozilla/5.0 (Windows NT 10.0; Win64; x64) AppleWebKit/537.36 (KHTML, like Gecko) Chrome/114.0.0.0 Safari/537.36 Edg/114.0.1823.67'"
      ]
     },
     "execution_count": 15,
     "metadata": {},
     "output_type": "execute_result"
    }
   ],
   "source": [
    "gen_ua(browsers, os, min_per)"
   ]
  },
  {
   "cell_type": "code",
   "execution_count": 16,
   "id": "05ed3f8c",
   "metadata": {},
   "outputs": [],
   "source": [
    "ua_list = []\n",
    "\n",
    "for i in range(0,1000):\n",
    "    ua = gen_ua(browsers, os, min_per)\n",
    "    ua_list.append(ua)"
   ]
  },
  {
   "cell_type": "code",
   "execution_count": 17,
   "id": "34dad040",
   "metadata": {},
   "outputs": [
    {
     "data": {
      "text/plain": [
       "list"
      ]
     },
     "execution_count": 17,
     "metadata": {},
     "output_type": "execute_result"
    }
   ],
   "source": [
    "type(ua_list)"
   ]
  },
  {
   "cell_type": "code",
   "execution_count": 19,
   "id": "dad7af6d",
   "metadata": {},
   "outputs": [],
   "source": [
    "import pandas as pd"
   ]
  },
  {
   "cell_type": "code",
   "execution_count": 18,
   "id": "ab2643b2",
   "metadata": {},
   "outputs": [
    {
     "ename": "NameError",
     "evalue": "name 'pd' is not defined",
     "output_type": "error",
     "traceback": [
      "\u001b[0;31m---------------------------------------------------------------------------\u001b[0m",
      "\u001b[0;31mNameError\u001b[0m                                 Traceback (most recent call last)",
      "Cell \u001b[0;32mIn [18], line 1\u001b[0m\n\u001b[0;32m----> 1\u001b[0m ua_df \u001b[38;5;241m=\u001b[39m \u001b[43mpd\u001b[49m\u001b[38;5;241m.\u001b[39mDataFrame(ua_list, columns\u001b[38;5;241m=\u001b[39m[\u001b[38;5;124m'\u001b[39m\u001b[38;5;124muser_agent\u001b[39m\u001b[38;5;124m'\u001b[39m])\n\u001b[1;32m      2\u001b[0m ua_df\u001b[38;5;241m.\u001b[39mto_csv(\u001b[38;5;124m'\u001b[39m\u001b[38;5;124muser_agent.csv\u001b[39m\u001b[38;5;124m'\u001b[39m)\n",
      "\u001b[0;31mNameError\u001b[0m: name 'pd' is not defined"
     ]
    }
   ],
   "source": [
    "ua_df = pd.DataFrame(ua_list, columns=['user_agent'])\n",
    "ua_df.to_csv('user_agent.csv')"
   ]
  },
  {
   "cell_type": "markdown",
   "id": "cfde50bd",
   "metadata": {},
   "source": [
    "# Headless Browsing"
   ]
  },
  {
   "cell_type": "code",
   "execution_count": 32,
   "id": "4857d686",
   "metadata": {},
   "outputs": [],
   "source": [
    "# selenium, puppeter, pyppeteer.. scrapy"
   ]
  },
  {
   "cell_type": "code",
   "execution_count": 20,
   "id": "e5a3d800",
   "metadata": {},
   "outputs": [],
   "source": [
    "import pyppeteer"
   ]
  },
  {
   "cell_type": "code",
   "execution_count": 21,
   "id": "4df63864",
   "metadata": {},
   "outputs": [],
   "source": [
    "from selenium import webdriver\n",
    "from selenium.webdriver.common.by import By\n",
    "from selenium.webdriver.common.keys import Keys\n",
    "from selenium.webdriver.chrome.service import Service\n",
    "from webdriver_manager.chrome import ChromeDriverManager\n",
    "from selenium.webdriver.support.ui import WebDriverWait\n",
    "from selenium.webdriver.chrome.options import Options\n",
    "from selenium.common.exceptions import TimeoutException\n",
    "from selenium.webdriver.support import expected_conditions as EC"
   ]
  },
  {
   "cell_type": "code",
   "execution_count": 22,
   "id": "2cb613e2",
   "metadata": {},
   "outputs": [],
   "source": [
    "creds = {\n",
    "  'user': 'inkerscraper',\n",
    "  'password': 'inkertattoo'\n",
    "}\n",
    "\n",
    "website = 'https://instagram.com/'"
   ]
  },
  {
   "cell_type": "code",
   "execution_count": 23,
   "id": "58382b97",
   "metadata": {},
   "outputs": [],
   "source": [
    "chrome_options = webdriver.ChromeOptions()\n",
    "# chrome_options.add_argument(\"--incognito\")  # Optional: Use incognito mode which doesn't use cache\n",
    "# chrome_options.add_argument(\"--disable-cache\")  # Disable the cache\n",
    "# chrome_options.add_argument(\"--no-sandbox\")\n",
    "# chrome_options.add_argument(\"--disable-application-cache\")\n",
    "chrome_options.add_experimental_option(\"detach\", True)\n",
    "chrome_options.add_argument(gen_ua(browsers, os, min_per))"
   ]
  },
  {
   "cell_type": "code",
   "execution_count": 24,
   "id": "92205348",
   "metadata": {},
   "outputs": [],
   "source": [
    "def open_driver(website):\n",
    "    # driver = webdriver.Chrome('/Users/vzucher/Downloads/chromedriver/chromedriver')\n",
    "    # driver = webdriver.Chrome(service=Service(ChromeDriverManager().install()))\n",
    "#     opts = chrome_options()\n",
    "    driver = webdriver.Chrome(options=chrome_options)\n",
    "    print('[........opening instagram website.....]')\n",
    "    driver.get(website)\n",
    "    driver.implicitly_wait(10)\n",
    "    return driver"
   ]
  },
  {
   "cell_type": "code",
   "execution_count": 25,
   "id": "d3547d46",
   "metadata": {},
   "outputs": [],
   "source": [
    "def login(credentials, driver):\n",
    "  \n",
    "    wait = WebDriverWait(driver, 30)\n",
    "    login = wait.until(EC.element_to_be_clickable((By.NAME, \"username\"))).click()\n",
    "    login = driver.find_element(By.NAME, 'username')\n",
    "    login.send_keys(credentials['user'])\n",
    "    driver.implicitly_wait(10)\n",
    "\n",
    "\n",
    "    password = driver.find_element(By.NAME,\"password\")\n",
    "    password.click()\n",
    "    password.send_keys(credentials['password'])\n",
    "\n",
    "    driver.implicitly_wait(10)\n",
    "    btn = driver.find_element(By.XPATH,'/html/body/div[2]/div/div/div[2]/div/div/div/div[1]/section/main/article/div[2]/div[1]/div[2]/form/div/div[3]/button')\n",
    "    btn.click()\n",
    "    return driver"
   ]
  },
  {
   "cell_type": "code",
   "execution_count": 40,
   "id": "39e65f56",
   "metadata": {},
   "outputs": [],
   "source": [
    "from selenium.common.exceptions import WebDriverException\n",
    "\n",
    "def is_driver_active(driver):\n",
    "    try:\n",
    "        # Attempt to get the current URL. If the driver is not active, this will raise an exception.\n",
    "        current_url = driver.current_url\n",
    "        print(\"Driver is active!\")\n",
    "        return True\n",
    "    except WebDriverException:\n",
    "        print(\"Driver is not active!\")\n",
    "        return False"
   ]
  },
  {
   "cell_type": "code",
   "execution_count": 26,
   "id": "b291eef5",
   "metadata": {},
   "outputs": [],
   "source": [
    "def js_element(driver, xpath):\n",
    "    \n",
    "    try:\n",
    "        \n",
    "        e = WebDriverWait(driver, 4).until(\n",
    "            EC.presence_of_element_located((By.XPATH, xpath))\n",
    "        )\n",
    "        \n",
    "#         btn.click()\n",
    "        is_driver_active(driver)\n",
    "        return driver, e\n",
    "        \n",
    "    except TimeoutException:\n",
    "        \n",
    "        try:\n",
    "            e = WebDriverWait(driver, 3).until(\n",
    "                EC.visibility_of_element_located((By.XPATH, xpath))\n",
    "            )\n",
    "            \n",
    "#             btn.click()\n",
    "            return driver, e\n",
    "            \n",
    "        except TimeoutException:\n",
    "            print(f\"Element not found with {xpath}\")\n",
    "            return driver, None"
   ]
  },
  {
   "cell_type": "code",
   "execution_count": 27,
   "id": "cfab24f8",
   "metadata": {},
   "outputs": [],
   "source": [
    "def handling_popup(driver):\n",
    "    \n",
    "    xpath = \"/html/body/div[3]/div[1]/div/div[2]/div/div/div/div/div[2]/div/div\"\n",
    "    btn = '/html/body/div[3]/div[1]/div/div[2]/div/div/div/div/div[2]/div/div/div[3]/button[2]'\n",
    "    driver, btn = js_element(driver, xpath)\n",
    "#     btn = driver.find_element(By.XPATH, btn)\n",
    "    btn.click()\n",
    "#     driver.implicitly_wait(10)        \n",
    "    return driver"
   ]
  },
  {
   "cell_type": "code",
   "execution_count": 28,
   "id": "5ef59679",
   "metadata": {},
   "outputs": [],
   "source": [
    "import requests\n",
    "from bs4 import BeautifulSoup"
   ]
  },
  {
   "cell_type": "code",
   "execution_count": 44,
   "id": "5e858c8c",
   "metadata": {},
   "outputs": [],
   "source": [
    "tag = ['tattoos']\n",
    "tags = ['tattoo', 'tattoos', 'tattoo art']"
   ]
  },
  {
   "cell_type": "code",
   "execution_count": 29,
   "id": "1be45efa",
   "metadata": {},
   "outputs": [],
   "source": [
    "posts_xpaths = [\n",
    "    '/html/body/div[2]/div/div/div[2]/div/div/div/div[1]/div[1]/div[2]/section/main/article/div/div/div/div[1]/div[1]/a/div[1]/div[2].',\n",
    "    '/html/body/div[2]/div/div/div[2]/div/div/div/div[1]/div[1]/div[2]/section/main/article/div/div/div/div[1]/div[2]/a/div[1]/div[2]',\n",
    "    '/html/body/div[2]/div/div/div[2]/div/div/div/div[1]/div[1]/div[2]/section/main/article/div/div/div/div[1]/div[3]/a/div[1]/div[2]',\n",
    "    '/html/body/div[2]/div/div/div[2]/div/div/div/div[1]/div[1]/div[2]/section/main/article/div/div/div/div[2]/div[1]/a/div[1]/div[2]',\n",
    "    '/html/body/div[2]/div/div/div[2]/div/div/div/div[1]/div[1]/div[2]/section/main/article/div/div/div/div[2]/div[2]/a/div[1]/div[2]',\n",
    "    '/html/body/div[2]/div/div/div[2]/div/div/div/div[1]/div[1]/div[2]/section/main/article/div/div/div/div[2]/div[3]/a/div[1]/div[2]',\n",
    "    '/html/body/div[2]/div/div/div[2]/div/div/div/div[1]/div[1]/div[2]/section/main/article/div/div/div/div[3]/div[1]/a/div[1]/div[2]',\n",
    "    '/html/body/div[2]/div/div/div[2]/div/div/div/div[1]/div[1]/div[2]/section/main/article/div/div/div/div[3]/div[2]/a/div[1]/div[2]',\n",
    "    '/html/body/div[2]/div/div/div[2]/div/div/div/div[1]/div[1]/div[2]/section/main/article/div/div/div/div[3]/div[3]/a/div[1]/div[2]',\n",
    "    '/html/body/div[2]/div/div/div[2]/div/div/div/div[1]/div[1]/div[2]/section/main/article/div/div/div/div[4]/div[1]/a/div[1]/div[2]',\n",
    "    '/html/body/div[2]/div/div/div[2]/div/div/div/div[1]/div[1]/div[2]/section/main/article/div/div/div/div[4]/div[2]/a/div[1]/div[2]',\n",
    "    '/html/body/div[2]/div/div/div[2]/div/div/div/div[1]/div[1]/div[2]/section/main/article/div/div/div/div[4]/div[3]/a/div[1]/div[2]',\n",
    "    '/html/body/div[2]/div/div/div[2]/div/div/div/div[1]/div[1]/div[2]/section/main/article/div/div/div/div[5]/div[1]/a/div[1]/div[2]',\n",
    "    '/html/body/div[2]/div/div/div[2]/div/div/div/div[1]/div[1]/div[2]/section/main/article/div/div/div/div[5]/div[2]/a/div[1]/div[2]',\n",
    "    '/html/body/div[2]/div/div/div[2]/div/div/div/div[1]/div[1]/div[2]/section/main/article/div/div/div/div[5]/div[3]/a/div[1]/div[2]',\n",
    "    '/html/body/div[2]/div/div/div[2]/div/div/div/div[1]/div[1]/div[2]/section/main/article/div/div/div/div[6]/div[1]/a/div[1]/div[2]',\n",
    "    '/html/body/div[2]/div/div/div[2]/div/div/div/div[1]/div[1]/div[2]/section/main/article/div/div/div/div[6]/div[2]/a/div[1]/div[2]',\n",
    "    '/html/body/div[2]/div/div/div[2]/div/div/div/div[1]/div[1]/div[2]/section/main/article/div/div/div/div[6]/div[3]/a/div[1]/div[2]',\n",
    "    '/html/body/div[2]/div/div/div[2]/div/div/div/div[1]/div[1]/div[2]/section/main/article/div/div/div/div[7]/div[1]/a/div[1]/div[2]',\n",
    "    '/html/body/div[2]/div/div/div[2]/div/div/div/div[1]/div[1]/div[2]/section/main/article/div/div/div/div[7]/div[2]/a/div[1]/div[2]',\n",
    "    '/html/body/div[2]/div/div/div[2]/div/div/div/div[1]/div[1]/div[2]/section/main/article/div/div/div/div[7]/div[3]/a/div[1]/div[2]',\n",
    "    '/html/body/div[2]/div/div/div[2]/div/div/div/div[1]/div[1]/div[2]/section/main/article/div/div/div/div[8]/div[1]/a/div[1]/div[2]',\n",
    "    '/html/body/div[2]/div/div/div[2]/div/div/div/div[1]/div[1]/div[2]/section/main/article/div/div/div/div[8]/div[2]/a/div[1]/div[2]',\n",
    "    '/html/body/div[2]/div/div/div[2]/div/div/div/div[1]/div[1]/div[2]/section/main/article/div/div/div/div[8]/div[3]/a/div[1]/div[2]',\n",
    "    '/html/body/div[2]/div/div/div[2]/div/div/div/div[1]/div[1]/div[2]/section/main/article/div/div/div/div[9]/div[1]/a/div[1]/div[2]',\n",
    "    '/html/body/div[2]/div/div/div[2]/div/div/div/div[1]/div[1]/div[2]/section/main/article/div/div/div/div[9]/div[2]/a/div[1]/div[2]',\n",
    "    '/html/body/div[2]/div/div/div[2]/div/div/div/div[1]/div[1]/div[2]/section/main/article/div/div/div/div[9]/div[3]/a/div[1]/div[2]',\n",
    "    '/html/body/div[2]/div/div/div[2]/div/div/div/div[1]/div[1]/div[2]/section/main/article/div/div/div/div[10]/div[1]/a/div[1]/div[2]'\n",
    "]"
   ]
  },
  {
   "cell_type": "code",
   "execution_count": 30,
   "id": "bcc71399",
   "metadata": {},
   "outputs": [
    {
     "data": {
      "text/plain": [
       "'user-agent=Mozilla/5.0 (Macintosh; Intel Mac OS X 10_15_7) AppleWebKit/537.36 (KHTML, like Gecko) Chrome/114.0.0.0 Safari/537.36'"
      ]
     },
     "execution_count": 30,
     "metadata": {},
     "output_type": "execute_result"
    }
   ],
   "source": [
    "(gen_ua(browsers, os, min_per))"
   ]
  },
  {
   "cell_type": "code",
   "execution_count": 31,
   "id": "c55f00bb",
   "metadata": {
    "scrolled": false
   },
   "outputs": [
    {
     "name": "stdout",
     "output_type": "stream",
     "text": [
      "[........opening instagram website.....]\n"
     ]
    }
   ],
   "source": [
    "url = 'https://www.instagram.com'\n",
    "driver = open_driver(url)\n",
    "driver = login(creds, driver)\n",
    "driver.get('https://www.instagram.com/vzucher')\n",
    "xpath = '//*[@id=\"mount_0_0_1+\"]/div/div/div[2]/div/div/div/div[1]/div[1]/div[2]/div[2]/section/main/div/header/section/div[1]/a/h2'\n",
    "driver.find_element(By.XPATH, xpath)"
   ]
  },
  {
   "cell_type": "code",
   "execution_count": 413,
   "id": "26f2ea83",
   "metadata": {},
   "outputs": [],
   "source": [
    "def search_tag(driver, tags):\n",
    "    is_driver_active(driver)\n",
    "    \n",
    "    \n",
    "    def gen_urls(tags):\n",
    "    \n",
    "        urls = []\n",
    "        for tag in tags:\n",
    "            new_url = f\"https://www.instagram.com/explore/tags/{tag}/\"\n",
    "            print(new_url)\n",
    "            urls.append(new_url)\n",
    "            \n",
    "        print('URLs generated successfully')\n",
    "            \n",
    "        return urls\n",
    "        \n",
    "    \n",
    "    def get_htmls(urls):\n",
    "        \n",
    "        htmls = []\n",
    "        \n",
    "        for url in urls:\n",
    "            print(f\"fetching {url} for tag: **{tag}**\")\n",
    "    #         driver.get(url)\n",
    "\n",
    "            response = requests.get(url)\n",
    "\n",
    "            if response.status_code == 200:   \n",
    "\n",
    "                html = response.text\n",
    "                htmls.append(html)\n",
    "                \n",
    "        print('HTMLs stored successfully')\n",
    "    \n",
    "        return htmls\n",
    "    \n",
    "\n",
    "    def get_soups(htmls):\n",
    "    \n",
    "        soups = []\n",
    "        for html in htmls:\n",
    "            \n",
    "            soup = BeautifulSoup(html, 'html.parser')\n",
    "            soups.append(soup)\n",
    "            \n",
    "        return soups\n",
    "\n",
    "\n",
    "    def get_posts_url(soups):\n",
    "        \n",
    "        post_urls = []\n",
    "#         post_on_grid_class = '_aagw'\n",
    "        xpath = ''\n",
    "        \n",
    "        elements_arr = []\n",
    "        \n",
    "        for soup in soups:\n",
    "            \n",
    "            elements = soup.find_all(class_=post_on_grid_class)\n",
    "            elements_arr.append(elements)\n",
    "            print(f\"Your Array of Elements Arrays is of length:{len(elements_arr)}\")\n",
    "        \n",
    "        for elements in elements_arr:\n",
    "            \n",
    "            for e in elements:\n",
    "\n",
    "            driver.find_element(By.XPATH, xpath).click()\n",
    "            url = driver.current_url\n",
    "            print(f\"The URL for this post now is {url}\")\n",
    "            post_urls.append(url)\n",
    "        return post_urls\n",
    "    \n",
    "    def run(driver,tags):\n",
    "        \n",
    "        urls = gen_urls(tags)\n",
    "        htmls = get_htmls(urls)\n",
    "        soups = get_soups(htmls)\n",
    "        post_urls = get_posts_url(soups)\n",
    "        \n",
    "        return post_urls\n",
    "    \n",
    "    run(driver,tags)\n",
    "        \n",
    "    return driver, post_urls"
   ]
  },
  {
   "cell_type": "code",
   "execution_count": 414,
   "id": "ccd2ca98",
   "metadata": {},
   "outputs": [
    {
     "name": "stdout",
     "output_type": "stream",
     "text": [
      "[........opening instagram website.....]\n",
      "Element not found with /html/body/div[3]/div[1]/div/div[2]/div/div/div/div/div[2]/div/div\n",
      "Driver is active!\n",
      "https://www.instagram.com/explore/tags/t/\n",
      "https://www.instagram.com/explore/tags/a/\n",
      "https://www.instagram.com/explore/tags/t/\n",
      "https://www.instagram.com/explore/tags/t/\n",
      "https://www.instagram.com/explore/tags/o/\n",
      "https://www.instagram.com/explore/tags/o/\n",
      "https://www.instagram.com/explore/tags/s/\n",
      "URLs generated successfully\n",
      "fetching https://www.instagram.com/explore/tags/t/ for tag tattoos\n",
      "fetching https://www.instagram.com/explore/tags/a/ for tag tattoos\n",
      "fetching https://www.instagram.com/explore/tags/t/ for tag tattoos\n",
      "fetching https://www.instagram.com/explore/tags/t/ for tag tattoos\n",
      "fetching https://www.instagram.com/explore/tags/o/ for tag tattoos\n",
      "fetching https://www.instagram.com/explore/tags/o/ for tag tattoos\n",
      "fetching https://www.instagram.com/explore/tags/s/ for tag tattoos\n",
      "HTMLs stored successfully\n"
     ]
    },
    {
     "ename": "NameError",
     "evalue": "name 'soup' is not defined",
     "output_type": "error",
     "traceback": [
      "\u001b[0;31m---------------------------------------------------------------------------\u001b[0m",
      "\u001b[0;31mNameError\u001b[0m                                 Traceback (most recent call last)",
      "Cell \u001b[0;32mIn [414], line 4\u001b[0m\n\u001b[1;32m      2\u001b[0m driver \u001b[38;5;241m=\u001b[39m login(credentials, driver)\n\u001b[1;32m      3\u001b[0m driver \u001b[38;5;241m=\u001b[39m handling_popup(driver)\n\u001b[0;32m----> 4\u001b[0m \u001b[43msearch_tag\u001b[49m\u001b[43m(\u001b[49m\u001b[43mdriver\u001b[49m\u001b[43m,\u001b[49m\u001b[43m \u001b[49m\u001b[38;5;124;43m'\u001b[39;49m\u001b[38;5;124;43mtattoos\u001b[39;49m\u001b[38;5;124;43m'\u001b[39;49m\u001b[43m)\u001b[49m\n",
      "Cell \u001b[0;32mIn [413], line 73\u001b[0m, in \u001b[0;36msearch_tag\u001b[0;34m(driver, tags)\u001b[0m\n\u001b[1;32m     69\u001b[0m     post_urls \u001b[38;5;241m=\u001b[39m get_posts_url(soups)\n\u001b[1;32m     71\u001b[0m     \u001b[38;5;28;01mreturn\u001b[39;00m post_urls\n\u001b[0;32m---> 73\u001b[0m \u001b[43mrun\u001b[49m\u001b[43m(\u001b[49m\u001b[43mdriver\u001b[49m\u001b[43m,\u001b[49m\u001b[43mtags\u001b[49m\u001b[43m)\u001b[49m\n\u001b[1;32m     75\u001b[0m \u001b[38;5;28;01mreturn\u001b[39;00m driver, post_urls\n",
      "Cell \u001b[0;32mIn [413], line 69\u001b[0m, in \u001b[0;36msearch_tag.<locals>.run\u001b[0;34m(driver, tags)\u001b[0m\n\u001b[1;32m     67\u001b[0m htmls \u001b[38;5;241m=\u001b[39m get_htmls(urls)\n\u001b[1;32m     68\u001b[0m soups \u001b[38;5;241m=\u001b[39m get_soups(htmls)\n\u001b[0;32m---> 69\u001b[0m post_urls \u001b[38;5;241m=\u001b[39m \u001b[43mget_posts_url\u001b[49m\u001b[43m(\u001b[49m\u001b[43msoups\u001b[49m\u001b[43m)\u001b[49m\n\u001b[1;32m     71\u001b[0m \u001b[38;5;28;01mreturn\u001b[39;00m post_urls\n",
      "Cell \u001b[0;32mIn [413], line 54\u001b[0m, in \u001b[0;36msearch_tag.<locals>.get_posts_url\u001b[0;34m(soups)\u001b[0m\n\u001b[1;32m     51\u001b[0m post_urls \u001b[38;5;241m=\u001b[39m []\n\u001b[1;32m     53\u001b[0m post_on_grid_class \u001b[38;5;241m=\u001b[39m \u001b[38;5;124m'\u001b[39m\u001b[38;5;124m_aagw\u001b[39m\u001b[38;5;124m'\u001b[39m\n\u001b[0;32m---> 54\u001b[0m es \u001b[38;5;241m=\u001b[39m \u001b[43msoup\u001b[49m\u001b[38;5;241m.\u001b[39mfind_all(class_\u001b[38;5;241m=\u001b[39mpost_on_grid_class)\n\u001b[1;32m     56\u001b[0m \u001b[38;5;28;01mfor\u001b[39;00m e \u001b[38;5;129;01min\u001b[39;00m es:\n\u001b[1;32m     58\u001b[0m     driver\u001b[38;5;241m.\u001b[39mfind_element(By\u001b[38;5;241m.\u001b[39mCLASS_NAME, post_on_grid_class)\u001b[38;5;241m.\u001b[39mclick()\n",
      "\u001b[0;31mNameError\u001b[0m: name 'soup' is not defined"
     ]
    }
   ],
   "source": [
    "driver = open_driver(website)\n",
    "driver = login(credentials, driver)\n",
    "driver = handling_popup(driver)\n",
    "search_tag(driver, 'tattoos')"
   ]
  },
  {
   "cell_type": "code",
   "execution_count": 360,
   "id": "fb2d29de",
   "metadata": {},
   "outputs": [],
   "source": [
    "new_url = f\"https://www.instagram.com/explore/tags/{tag}/\""
   ]
  },
  {
   "cell_type": "code",
   "execution_count": 375,
   "id": "f36d1efd",
   "metadata": {},
   "outputs": [],
   "source": [
    "def visit_profile(driver):\n",
    "    driver.find_element(By.XPATH,'/html/body/div[1]/div[2]/main/div[1]/div[2]/div/div[1]/div[2]/div[1]/div/div[1]/div/a/div[3]/div[1]/span').click()\n",
    "    driver.implicitly_wait(30)\n",
    "    url = driver.current_url\n",
    "    return url"
   ]
  },
  {
   "cell_type": "code",
   "execution_count": null,
   "id": "db729384",
   "metadata": {},
   "outputs": [],
   "source": [
    "credentials = {\n",
    "  'user': 'inkerscraper',\n",
    "  'password': 'inkertattoo'\n",
    "}\n",
    "website = 'https://instagram.com/'\n",
    "\n",
    "# dictionary o f users\n",
    "\n",
    "users = {'user': [],\n",
    "         'link': []}\n",
    "\n",
    "# instantiating webdriver options\n",
    "\n",
    "chrome_options = Options()\n",
    "chrome_options.add_experimental_option(\"detach\", True)\n",
    "\n",
    "# Creating the Dataframe to be the Database\n",
    "\n",
    "users_df = pd.DataFrame(columns=['user', 'link'])\n",
    "\n",
    "# instantiating webdriver chromedriver\n",
    "\n",
    "def open_driver(website):\n",
    "    # driver = webdriver.Chrome('/Users/vzucher/Downloads/chromedriver/chromedriver')\n",
    "    # driver = webdriver.Chrome(service=Service(ChromeDriverManager().install()))\n",
    "    \n",
    "    driver = webdriver.Chrome(options=chrome_options)\n",
    "    print('[........opening instagram website.....]')\n",
    "    driver.get(website)\n",
    "    driver.implicitly_wait(25)\n",
    "    return driver\n",
    "\n",
    "# calling webdriver instatiating method\n",
    "\n",
    "\n",
    "def login(credentials, driver):\n",
    "  \n",
    "    wait = WebDriverWait(driver, 100)\n",
    "    login = wait.until(EC.element_to_be_clickable((By.NAME, \"username\"))).click()\n",
    "    login = driver.find_element(By.NAME, 'username')\n",
    "    login.send_keys(credentials['user'])\n",
    "    driver.implicitly_wait(20)\n",
    "\n",
    "\n",
    "    password = driver.find_element(By.NAME,\"password\")\n",
    "    password.click()\n",
    "    password.send_keys(credentials['password'])\n",
    "\n",
    "    driver.implicitly_wait(30)\n",
    "    btn = driver.find_element(By.XPATH,'/html/body/div[2]/div/div/div[1]/div/div/div/div[1]/section/main/article/div[2]/div[1]/div[2]/form/div/div[3]/button')\n",
    "    btn.click()\n",
    "    return driver\n",
    "\n",
    "def visit_profile(driver):\n",
    "    driver.find_element(By.XPATH,'/html/body/div[1]/div[2]/main/div[1]/div[2]/div/div[1]/div[2]/div[1]/div/div[1]/div/a/div[3]/div[1]/span').click()\n",
    "    driver.implicitly_wait(30)\n",
    "    url = driver.current_url\n",
    "    return url\n",
    "  \n",
    "def get_username(driver,url):\n",
    "  username = driver.find_element(By.XPATH,'/html/body/div[1]/div[2]/main/div[1]/div/div/div[2]/div/div[2]/div[1]/div[2]/div[2]/div[1]/div').text\n",
    "  users['user'].append(username)\n",
    "  users['link'].append(url)\n",
    "  driver.implicitly_wait(40)\n",
    "  driver.back()\n",
    "  driver.implicitly_wait(40)\n",
    "  return users\n",
    "\n",
    "def dict_to_df(users):\n",
    "  users_df = pd.DataFrame.from_dict(users)\n",
    "  return users_df\n",
    "\n",
    "def run_all():\n",
    "  driver = open_driver(website)\n",
    "  driver.implicitly_wait(30)\n",
    "  login(credentials, driver)\n",
    "  url = visit_profile(driver)\n",
    "  users = get_username(driver,url)\n",
    "  users_df = dict_to_df(users)\n",
    "  print(users_df)\n",
    "  return users_df\n",
    "\n",
    "run_all()\n",
    "\n",
    "# Specify the path and filename for the CSV file\n",
    "csv_path = 'scrape/db.csv'\n",
    "users_df.to_csv(csv_path, index=False)"
   ]
  },
  {
   "cell_type": "code",
   "execution_count": 2,
   "id": "2564f227",
   "metadata": {},
   "outputs": [],
   "source": [
    "import time\n",
    "import instaloader\n",
    "import pandas as pd\n",
    "from itertools import islice"
   ]
  },
  {
   "cell_type": "code",
   "execution_count": 5,
   "id": "e124e3e9",
   "metadata": {
    "collapsed": true
   },
   "outputs": [
    {
     "ename": "KeyboardInterrupt",
     "evalue": "",
     "output_type": "error",
     "traceback": [
      "\u001b[0;31m---------------------------------------------------------------------------\u001b[0m",
      "\u001b[0;31mKeyboardInterrupt\u001b[0m                         Traceback (most recent call last)",
      "Cell \u001b[0;32mIn [5], line 22\u001b[0m\n\u001b[1;32m     19\u001b[0m all_users \u001b[38;5;241m=\u001b[39m \u001b[38;5;28mset\u001b[39m()\n\u001b[1;32m     21\u001b[0m \u001b[38;5;28;01mfor\u001b[39;00m hashtag \u001b[38;5;129;01min\u001b[39;00m hashtags:\n\u001b[0;32m---> 22\u001b[0m     users \u001b[38;5;241m=\u001b[39m \u001b[43mget_users_from_hashtag\u001b[49m\u001b[43m(\u001b[49m\u001b[43mhashtag\u001b[49m\u001b[43m)\u001b[49m\n\u001b[1;32m     23\u001b[0m     all_users\u001b[38;5;241m.\u001b[39mupdate(users)\n\u001b[1;32m     25\u001b[0m \u001b[38;5;66;03m# Convert to DataFrame\u001b[39;00m\n",
      "Cell \u001b[0;32mIn [5], line 8\u001b[0m, in \u001b[0;36mget_users_from_hashtag\u001b[0;34m(hashtag)\u001b[0m\n\u001b[1;32m      6\u001b[0m \u001b[38;5;28;01mdef\u001b[39;00m \u001b[38;5;21mget_users_from_hashtag\u001b[39m(hashtag):\n\u001b[1;32m      7\u001b[0m     L \u001b[38;5;241m=\u001b[39m instaloader\u001b[38;5;241m.\u001b[39mInstaloader()\n\u001b[0;32m----> 8\u001b[0m     posts \u001b[38;5;241m=\u001b[39m \u001b[43mL\u001b[49m\u001b[38;5;241;43m.\u001b[39;49m\u001b[43mget_hashtag_posts\u001b[49m\u001b[43m(\u001b[49m\u001b[43mhashtag\u001b[49m\u001b[43m)\u001b[49m\n\u001b[1;32m     10\u001b[0m     users \u001b[38;5;241m=\u001b[39m \u001b[38;5;28mset\u001b[39m()  \u001b[38;5;66;03m# Using a set to avoid duplicate usernames\u001b[39;00m\n\u001b[1;32m     12\u001b[0m     \u001b[38;5;66;03m# Limiting to a certain number of posts for demonstration. Remove the limit if needed.\u001b[39;00m\n",
      "File \u001b[0;32m~/.pyenv/versions/3.10.6/envs/lewagon/lib/python3.10/site-packages/instaloader/instaloader.py:1204\u001b[0m, in \u001b[0;36mInstaloader.get_hashtag_posts\u001b[0;34m(self, hashtag)\u001b[0m\n\u001b[1;32m   1199\u001b[0m \u001b[38;5;28;01mdef\u001b[39;00m \u001b[38;5;21mget_hashtag_posts\u001b[39m(\u001b[38;5;28mself\u001b[39m, hashtag: \u001b[38;5;28mstr\u001b[39m) \u001b[38;5;241m-\u001b[39m\u001b[38;5;241m>\u001b[39m Iterator[Post]:\n\u001b[1;32m   1200\u001b[0m     \u001b[38;5;124;03m\"\"\"Get Posts associated with a #hashtag.\u001b[39;00m\n\u001b[1;32m   1201\u001b[0m \n\u001b[1;32m   1202\u001b[0m \u001b[38;5;124;03m    .. deprecated:: 4.4\u001b[39;00m\n\u001b[1;32m   1203\u001b[0m \u001b[38;5;124;03m       Use :meth:`Hashtag.get_posts_resumable`.\"\"\"\u001b[39;00m\n\u001b[0;32m-> 1204\u001b[0m     \u001b[38;5;28;01mreturn\u001b[39;00m \u001b[43mHashtag\u001b[49m\u001b[38;5;241;43m.\u001b[39;49m\u001b[43mfrom_name\u001b[49m\u001b[43m(\u001b[49m\u001b[38;5;28;43mself\u001b[39;49m\u001b[38;5;241;43m.\u001b[39;49m\u001b[43mcontext\u001b[49m\u001b[43m,\u001b[49m\u001b[43m \u001b[49m\u001b[43mhashtag\u001b[49m\u001b[43m)\u001b[49m\u001b[38;5;241m.\u001b[39mget_posts_resumable()\n",
      "File \u001b[0;32m~/.pyenv/versions/3.10.6/envs/lewagon/lib/python3.10/site-packages/instaloader/structures.py:1662\u001b[0m, in \u001b[0;36mHashtag.from_name\u001b[0;34m(cls, context, name)\u001b[0m\n\u001b[1;32m   1660\u001b[0m \u001b[38;5;66;03m# pylint:disable=protected-access\u001b[39;00m\n\u001b[1;32m   1661\u001b[0m hashtag \u001b[38;5;241m=\u001b[39m \u001b[38;5;28mcls\u001b[39m(context, {\u001b[38;5;124m'\u001b[39m\u001b[38;5;124mname\u001b[39m\u001b[38;5;124m'\u001b[39m: name\u001b[38;5;241m.\u001b[39mlower()})\n\u001b[0;32m-> 1662\u001b[0m \u001b[43mhashtag\u001b[49m\u001b[38;5;241;43m.\u001b[39;49m\u001b[43m_obtain_metadata\u001b[49m\u001b[43m(\u001b[49m\u001b[43m)\u001b[49m\n\u001b[1;32m   1663\u001b[0m \u001b[38;5;28;01mreturn\u001b[39;00m hashtag\n",
      "File \u001b[0;32m~/.pyenv/versions/3.10.6/envs/lewagon/lib/python3.10/site-packages/instaloader/structures.py:1676\u001b[0m, in \u001b[0;36mHashtag._obtain_metadata\u001b[0;34m(self)\u001b[0m\n\u001b[1;32m   1674\u001b[0m \u001b[38;5;28;01mdef\u001b[39;00m \u001b[38;5;21m_obtain_metadata\u001b[39m(\u001b[38;5;28mself\u001b[39m):\n\u001b[1;32m   1675\u001b[0m     \u001b[38;5;28;01mif\u001b[39;00m \u001b[38;5;129;01mnot\u001b[39;00m \u001b[38;5;28mself\u001b[39m\u001b[38;5;241m.\u001b[39m_has_full_metadata:\n\u001b[0;32m-> 1676\u001b[0m         \u001b[38;5;28mself\u001b[39m\u001b[38;5;241m.\u001b[39m_node \u001b[38;5;241m=\u001b[39m \u001b[38;5;28;43mself\u001b[39;49m\u001b[38;5;241;43m.\u001b[39;49m\u001b[43m_query\u001b[49m\u001b[43m(\u001b[49m\u001b[43m{\u001b[49m\u001b[38;5;124;43m\"\u001b[39;49m\u001b[38;5;124;43m__a\u001b[39;49m\u001b[38;5;124;43m\"\u001b[39;49m\u001b[43m:\u001b[49m\u001b[43m \u001b[49m\u001b[38;5;241;43m1\u001b[39;49m\u001b[43m,\u001b[49m\u001b[43m \u001b[49m\u001b[38;5;124;43m\"\u001b[39;49m\u001b[38;5;124;43m__d\u001b[39;49m\u001b[38;5;124;43m\"\u001b[39;49m\u001b[43m:\u001b[49m\u001b[43m \u001b[49m\u001b[38;5;124;43m\"\u001b[39;49m\u001b[38;5;124;43mdis\u001b[39;49m\u001b[38;5;124;43m\"\u001b[39;49m\u001b[43m}\u001b[49m\u001b[43m)\u001b[49m\n\u001b[1;32m   1677\u001b[0m         \u001b[38;5;28mself\u001b[39m\u001b[38;5;241m.\u001b[39m_has_full_metadata \u001b[38;5;241m=\u001b[39m \u001b[38;5;28;01mTrue\u001b[39;00m\n",
      "File \u001b[0;32m~/.pyenv/versions/3.10.6/envs/lewagon/lib/python3.10/site-packages/instaloader/structures.py:1671\u001b[0m, in \u001b[0;36mHashtag._query\u001b[0;34m(self, params)\u001b[0m\n\u001b[1;32m   1670\u001b[0m \u001b[38;5;28;01mdef\u001b[39;00m \u001b[38;5;21m_query\u001b[39m(\u001b[38;5;28mself\u001b[39m, params):\n\u001b[0;32m-> 1671\u001b[0m     json_response \u001b[38;5;241m=\u001b[39m \u001b[38;5;28;43mself\u001b[39;49m\u001b[38;5;241;43m.\u001b[39;49m\u001b[43m_context\u001b[49m\u001b[38;5;241;43m.\u001b[39;49m\u001b[43mget_json\u001b[49m\u001b[43m(\u001b[49m\u001b[38;5;124;43m\"\u001b[39;49m\u001b[38;5;124;43mexplore/tags/\u001b[39;49m\u001b[38;5;132;43;01m{0}\u001b[39;49;00m\u001b[38;5;124;43m/\u001b[39;49m\u001b[38;5;124;43m\"\u001b[39;49m\u001b[38;5;241;43m.\u001b[39;49m\u001b[43mformat\u001b[49m\u001b[43m(\u001b[49m\u001b[38;5;28;43mself\u001b[39;49m\u001b[38;5;241;43m.\u001b[39;49m\u001b[43mname\u001b[49m\u001b[43m)\u001b[49m\u001b[43m,\u001b[49m\u001b[43m \u001b[49m\u001b[43mparams\u001b[49m\u001b[43m)\u001b[49m\n\u001b[1;32m   1672\u001b[0m     \u001b[38;5;28;01mreturn\u001b[39;00m json_response[\u001b[38;5;124m\"\u001b[39m\u001b[38;5;124mgraphql\u001b[39m\u001b[38;5;124m\"\u001b[39m][\u001b[38;5;124m\"\u001b[39m\u001b[38;5;124mhashtag\u001b[39m\u001b[38;5;124m\"\u001b[39m] \u001b[38;5;28;01mif\u001b[39;00m \u001b[38;5;124m\"\u001b[39m\u001b[38;5;124mgraphql\u001b[39m\u001b[38;5;124m\"\u001b[39m \u001b[38;5;129;01min\u001b[39;00m json_response \u001b[38;5;28;01melse\u001b[39;00m json_response[\u001b[38;5;124m\"\u001b[39m\u001b[38;5;124mdata\u001b[39m\u001b[38;5;124m\"\u001b[39m]\n",
      "File \u001b[0;32m~/.pyenv/versions/3.10.6/envs/lewagon/lib/python3.10/site-packages/instaloader/instaloadercontext.py:372\u001b[0m, in \u001b[0;36mInstaloaderContext.get_json\u001b[0;34m(self, path, params, host, session, _attempt, response_headers)\u001b[0m\n\u001b[1;32m    370\u001b[0m \u001b[38;5;28;01mif\u001b[39;00m is_other_query:\n\u001b[1;32m    371\u001b[0m     \u001b[38;5;28mself\u001b[39m\u001b[38;5;241m.\u001b[39m_rate_controller\u001b[38;5;241m.\u001b[39mwait_before_query(\u001b[38;5;124m'\u001b[39m\u001b[38;5;124mother\u001b[39m\u001b[38;5;124m'\u001b[39m)\n\u001b[0;32m--> 372\u001b[0m resp \u001b[38;5;241m=\u001b[39m \u001b[43msess\u001b[49m\u001b[38;5;241;43m.\u001b[39;49m\u001b[43mget\u001b[49m\u001b[43m(\u001b[49m\u001b[38;5;124;43m'\u001b[39;49m\u001b[38;5;124;43mhttps://\u001b[39;49m\u001b[38;5;132;43;01m{0}\u001b[39;49;00m\u001b[38;5;124;43m/\u001b[39;49m\u001b[38;5;132;43;01m{1}\u001b[39;49;00m\u001b[38;5;124;43m'\u001b[39;49m\u001b[38;5;241;43m.\u001b[39;49m\u001b[43mformat\u001b[49m\u001b[43m(\u001b[49m\u001b[43mhost\u001b[49m\u001b[43m,\u001b[49m\u001b[43m \u001b[49m\u001b[43mpath\u001b[49m\u001b[43m)\u001b[49m\u001b[43m,\u001b[49m\u001b[43m \u001b[49m\u001b[43mparams\u001b[49m\u001b[38;5;241;43m=\u001b[39;49m\u001b[43mparams\u001b[49m\u001b[43m,\u001b[49m\u001b[43m \u001b[49m\u001b[43mallow_redirects\u001b[49m\u001b[38;5;241;43m=\u001b[39;49m\u001b[38;5;28;43;01mFalse\u001b[39;49;00m\u001b[43m)\u001b[49m\n\u001b[1;32m    373\u001b[0m \u001b[38;5;28;01mif\u001b[39;00m resp\u001b[38;5;241m.\u001b[39mstatus_code \u001b[38;5;129;01min\u001b[39;00m \u001b[38;5;28mself\u001b[39m\u001b[38;5;241m.\u001b[39mfatal_status_codes:\n\u001b[1;32m    374\u001b[0m     redirect \u001b[38;5;241m=\u001b[39m \u001b[38;5;124m\"\u001b[39m\u001b[38;5;124m redirect to \u001b[39m\u001b[38;5;132;01m{}\u001b[39;00m\u001b[38;5;124m\"\u001b[39m\u001b[38;5;241m.\u001b[39mformat(resp\u001b[38;5;241m.\u001b[39mheaders[\u001b[38;5;124m'\u001b[39m\u001b[38;5;124mlocation\u001b[39m\u001b[38;5;124m'\u001b[39m]) \u001b[38;5;28;01mif\u001b[39;00m \u001b[38;5;124m'\u001b[39m\u001b[38;5;124mlocation\u001b[39m\u001b[38;5;124m'\u001b[39m \u001b[38;5;129;01min\u001b[39;00m resp\u001b[38;5;241m.\u001b[39mheaders \u001b[38;5;28;01melse\u001b[39;00m \u001b[38;5;124m\"\u001b[39m\u001b[38;5;124m\"\u001b[39m\n",
      "File \u001b[0;32m~/.pyenv/versions/3.10.6/envs/lewagon/lib/python3.10/site-packages/requests/sessions.py:602\u001b[0m, in \u001b[0;36mSession.get\u001b[0;34m(self, url, **kwargs)\u001b[0m\n\u001b[1;32m    594\u001b[0m \u001b[38;5;124mr\u001b[39m\u001b[38;5;124;03m\"\"\"Sends a GET request. Returns :class:`Response` object.\u001b[39;00m\n\u001b[1;32m    595\u001b[0m \n\u001b[1;32m    596\u001b[0m \u001b[38;5;124;03m:param url: URL for the new :class:`Request` object.\u001b[39;00m\n\u001b[1;32m    597\u001b[0m \u001b[38;5;124;03m:param \\*\\*kwargs: Optional arguments that ``request`` takes.\u001b[39;00m\n\u001b[1;32m    598\u001b[0m \u001b[38;5;124;03m:rtype: requests.Response\u001b[39;00m\n\u001b[1;32m    599\u001b[0m \u001b[38;5;124;03m\"\"\"\u001b[39;00m\n\u001b[1;32m    601\u001b[0m kwargs\u001b[38;5;241m.\u001b[39msetdefault(\u001b[38;5;124m\"\u001b[39m\u001b[38;5;124mallow_redirects\u001b[39m\u001b[38;5;124m\"\u001b[39m, \u001b[38;5;28;01mTrue\u001b[39;00m)\n\u001b[0;32m--> 602\u001b[0m \u001b[38;5;28;01mreturn\u001b[39;00m \u001b[38;5;28;43mself\u001b[39;49m\u001b[38;5;241;43m.\u001b[39;49m\u001b[43mrequest\u001b[49m\u001b[43m(\u001b[49m\u001b[38;5;124;43m\"\u001b[39;49m\u001b[38;5;124;43mGET\u001b[39;49m\u001b[38;5;124;43m\"\u001b[39;49m\u001b[43m,\u001b[49m\u001b[43m \u001b[49m\u001b[43murl\u001b[49m\u001b[43m,\u001b[49m\u001b[43m \u001b[49m\u001b[38;5;241;43m*\u001b[39;49m\u001b[38;5;241;43m*\u001b[39;49m\u001b[43mkwargs\u001b[49m\u001b[43m)\u001b[49m\n",
      "File \u001b[0;32m~/.pyenv/versions/3.10.6/envs/lewagon/lib/python3.10/site-packages/requests/sessions.py:589\u001b[0m, in \u001b[0;36mSession.request\u001b[0;34m(self, method, url, params, data, headers, cookies, files, auth, timeout, allow_redirects, proxies, hooks, stream, verify, cert, json)\u001b[0m\n\u001b[1;32m    584\u001b[0m send_kwargs \u001b[38;5;241m=\u001b[39m {\n\u001b[1;32m    585\u001b[0m     \u001b[38;5;124m\"\u001b[39m\u001b[38;5;124mtimeout\u001b[39m\u001b[38;5;124m\"\u001b[39m: timeout,\n\u001b[1;32m    586\u001b[0m     \u001b[38;5;124m\"\u001b[39m\u001b[38;5;124mallow_redirects\u001b[39m\u001b[38;5;124m\"\u001b[39m: allow_redirects,\n\u001b[1;32m    587\u001b[0m }\n\u001b[1;32m    588\u001b[0m send_kwargs\u001b[38;5;241m.\u001b[39mupdate(settings)\n\u001b[0;32m--> 589\u001b[0m resp \u001b[38;5;241m=\u001b[39m \u001b[38;5;28;43mself\u001b[39;49m\u001b[38;5;241;43m.\u001b[39;49m\u001b[43msend\u001b[49m\u001b[43m(\u001b[49m\u001b[43mprep\u001b[49m\u001b[43m,\u001b[49m\u001b[43m \u001b[49m\u001b[38;5;241;43m*\u001b[39;49m\u001b[38;5;241;43m*\u001b[39;49m\u001b[43msend_kwargs\u001b[49m\u001b[43m)\u001b[49m\n\u001b[1;32m    591\u001b[0m \u001b[38;5;28;01mreturn\u001b[39;00m resp\n",
      "File \u001b[0;32m~/.pyenv/versions/3.10.6/envs/lewagon/lib/python3.10/site-packages/requests/sessions.py:703\u001b[0m, in \u001b[0;36mSession.send\u001b[0;34m(self, request, **kwargs)\u001b[0m\n\u001b[1;32m    700\u001b[0m start \u001b[38;5;241m=\u001b[39m preferred_clock()\n\u001b[1;32m    702\u001b[0m \u001b[38;5;66;03m# Send the request\u001b[39;00m\n\u001b[0;32m--> 703\u001b[0m r \u001b[38;5;241m=\u001b[39m \u001b[43madapter\u001b[49m\u001b[38;5;241;43m.\u001b[39;49m\u001b[43msend\u001b[49m\u001b[43m(\u001b[49m\u001b[43mrequest\u001b[49m\u001b[43m,\u001b[49m\u001b[43m \u001b[49m\u001b[38;5;241;43m*\u001b[39;49m\u001b[38;5;241;43m*\u001b[39;49m\u001b[43mkwargs\u001b[49m\u001b[43m)\u001b[49m\n\u001b[1;32m    705\u001b[0m \u001b[38;5;66;03m# Total elapsed time of the request (approximately)\u001b[39;00m\n\u001b[1;32m    706\u001b[0m elapsed \u001b[38;5;241m=\u001b[39m preferred_clock() \u001b[38;5;241m-\u001b[39m start\n",
      "File \u001b[0;32m~/.pyenv/versions/3.10.6/envs/lewagon/lib/python3.10/site-packages/requests/adapters.py:486\u001b[0m, in \u001b[0;36mHTTPAdapter.send\u001b[0;34m(self, request, stream, timeout, verify, cert, proxies)\u001b[0m\n\u001b[1;32m    483\u001b[0m     timeout \u001b[38;5;241m=\u001b[39m TimeoutSauce(connect\u001b[38;5;241m=\u001b[39mtimeout, read\u001b[38;5;241m=\u001b[39mtimeout)\n\u001b[1;32m    485\u001b[0m \u001b[38;5;28;01mtry\u001b[39;00m:\n\u001b[0;32m--> 486\u001b[0m     resp \u001b[38;5;241m=\u001b[39m \u001b[43mconn\u001b[49m\u001b[38;5;241;43m.\u001b[39;49m\u001b[43murlopen\u001b[49m\u001b[43m(\u001b[49m\n\u001b[1;32m    487\u001b[0m \u001b[43m        \u001b[49m\u001b[43mmethod\u001b[49m\u001b[38;5;241;43m=\u001b[39;49m\u001b[43mrequest\u001b[49m\u001b[38;5;241;43m.\u001b[39;49m\u001b[43mmethod\u001b[49m\u001b[43m,\u001b[49m\n\u001b[1;32m    488\u001b[0m \u001b[43m        \u001b[49m\u001b[43murl\u001b[49m\u001b[38;5;241;43m=\u001b[39;49m\u001b[43murl\u001b[49m\u001b[43m,\u001b[49m\n\u001b[1;32m    489\u001b[0m \u001b[43m        \u001b[49m\u001b[43mbody\u001b[49m\u001b[38;5;241;43m=\u001b[39;49m\u001b[43mrequest\u001b[49m\u001b[38;5;241;43m.\u001b[39;49m\u001b[43mbody\u001b[49m\u001b[43m,\u001b[49m\n\u001b[1;32m    490\u001b[0m \u001b[43m        \u001b[49m\u001b[43mheaders\u001b[49m\u001b[38;5;241;43m=\u001b[39;49m\u001b[43mrequest\u001b[49m\u001b[38;5;241;43m.\u001b[39;49m\u001b[43mheaders\u001b[49m\u001b[43m,\u001b[49m\n\u001b[1;32m    491\u001b[0m \u001b[43m        \u001b[49m\u001b[43mredirect\u001b[49m\u001b[38;5;241;43m=\u001b[39;49m\u001b[38;5;28;43;01mFalse\u001b[39;49;00m\u001b[43m,\u001b[49m\n\u001b[1;32m    492\u001b[0m \u001b[43m        \u001b[49m\u001b[43massert_same_host\u001b[49m\u001b[38;5;241;43m=\u001b[39;49m\u001b[38;5;28;43;01mFalse\u001b[39;49;00m\u001b[43m,\u001b[49m\n\u001b[1;32m    493\u001b[0m \u001b[43m        \u001b[49m\u001b[43mpreload_content\u001b[49m\u001b[38;5;241;43m=\u001b[39;49m\u001b[38;5;28;43;01mFalse\u001b[39;49;00m\u001b[43m,\u001b[49m\n\u001b[1;32m    494\u001b[0m \u001b[43m        \u001b[49m\u001b[43mdecode_content\u001b[49m\u001b[38;5;241;43m=\u001b[39;49m\u001b[38;5;28;43;01mFalse\u001b[39;49;00m\u001b[43m,\u001b[49m\n\u001b[1;32m    495\u001b[0m \u001b[43m        \u001b[49m\u001b[43mretries\u001b[49m\u001b[38;5;241;43m=\u001b[39;49m\u001b[38;5;28;43mself\u001b[39;49m\u001b[38;5;241;43m.\u001b[39;49m\u001b[43mmax_retries\u001b[49m\u001b[43m,\u001b[49m\n\u001b[1;32m    496\u001b[0m \u001b[43m        \u001b[49m\u001b[43mtimeout\u001b[49m\u001b[38;5;241;43m=\u001b[39;49m\u001b[43mtimeout\u001b[49m\u001b[43m,\u001b[49m\n\u001b[1;32m    497\u001b[0m \u001b[43m        \u001b[49m\u001b[43mchunked\u001b[49m\u001b[38;5;241;43m=\u001b[39;49m\u001b[43mchunked\u001b[49m\u001b[43m,\u001b[49m\n\u001b[1;32m    498\u001b[0m \u001b[43m    \u001b[49m\u001b[43m)\u001b[49m\n\u001b[1;32m    500\u001b[0m \u001b[38;5;28;01mexcept\u001b[39;00m (ProtocolError, \u001b[38;5;167;01mOSError\u001b[39;00m) \u001b[38;5;28;01mas\u001b[39;00m err:\n\u001b[1;32m    501\u001b[0m     \u001b[38;5;28;01mraise\u001b[39;00m \u001b[38;5;167;01mConnectionError\u001b[39;00m(err, request\u001b[38;5;241m=\u001b[39mrequest)\n",
      "File \u001b[0;32m~/.pyenv/versions/3.10.6/envs/lewagon/lib/python3.10/site-packages/urllib3/connectionpool.py:714\u001b[0m, in \u001b[0;36mHTTPConnectionPool.urlopen\u001b[0;34m(self, method, url, body, headers, retries, redirect, assert_same_host, timeout, pool_timeout, release_conn, chunked, body_pos, **response_kw)\u001b[0m\n\u001b[1;32m    711\u001b[0m     \u001b[38;5;28mself\u001b[39m\u001b[38;5;241m.\u001b[39m_prepare_proxy(conn)\n\u001b[1;32m    713\u001b[0m \u001b[38;5;66;03m# Make the request on the httplib connection object.\u001b[39;00m\n\u001b[0;32m--> 714\u001b[0m httplib_response \u001b[38;5;241m=\u001b[39m \u001b[38;5;28;43mself\u001b[39;49m\u001b[38;5;241;43m.\u001b[39;49m\u001b[43m_make_request\u001b[49m\u001b[43m(\u001b[49m\n\u001b[1;32m    715\u001b[0m \u001b[43m    \u001b[49m\u001b[43mconn\u001b[49m\u001b[43m,\u001b[49m\n\u001b[1;32m    716\u001b[0m \u001b[43m    \u001b[49m\u001b[43mmethod\u001b[49m\u001b[43m,\u001b[49m\n\u001b[1;32m    717\u001b[0m \u001b[43m    \u001b[49m\u001b[43murl\u001b[49m\u001b[43m,\u001b[49m\n\u001b[1;32m    718\u001b[0m \u001b[43m    \u001b[49m\u001b[43mtimeout\u001b[49m\u001b[38;5;241;43m=\u001b[39;49m\u001b[43mtimeout_obj\u001b[49m\u001b[43m,\u001b[49m\n\u001b[1;32m    719\u001b[0m \u001b[43m    \u001b[49m\u001b[43mbody\u001b[49m\u001b[38;5;241;43m=\u001b[39;49m\u001b[43mbody\u001b[49m\u001b[43m,\u001b[49m\n\u001b[1;32m    720\u001b[0m \u001b[43m    \u001b[49m\u001b[43mheaders\u001b[49m\u001b[38;5;241;43m=\u001b[39;49m\u001b[43mheaders\u001b[49m\u001b[43m,\u001b[49m\n\u001b[1;32m    721\u001b[0m \u001b[43m    \u001b[49m\u001b[43mchunked\u001b[49m\u001b[38;5;241;43m=\u001b[39;49m\u001b[43mchunked\u001b[49m\u001b[43m,\u001b[49m\n\u001b[1;32m    722\u001b[0m \u001b[43m\u001b[49m\u001b[43m)\u001b[49m\n\u001b[1;32m    724\u001b[0m \u001b[38;5;66;03m# If we're going to release the connection in ``finally:``, then\u001b[39;00m\n\u001b[1;32m    725\u001b[0m \u001b[38;5;66;03m# the response doesn't need to know about the connection. Otherwise\u001b[39;00m\n\u001b[1;32m    726\u001b[0m \u001b[38;5;66;03m# it will also try to release it and we'll have a double-release\u001b[39;00m\n\u001b[1;32m    727\u001b[0m \u001b[38;5;66;03m# mess.\u001b[39;00m\n\u001b[1;32m    728\u001b[0m response_conn \u001b[38;5;241m=\u001b[39m conn \u001b[38;5;28;01mif\u001b[39;00m \u001b[38;5;129;01mnot\u001b[39;00m release_conn \u001b[38;5;28;01melse\u001b[39;00m \u001b[38;5;28;01mNone\u001b[39;00m\n",
      "File \u001b[0;32m~/.pyenv/versions/3.10.6/envs/lewagon/lib/python3.10/site-packages/urllib3/connectionpool.py:466\u001b[0m, in \u001b[0;36mHTTPConnectionPool._make_request\u001b[0;34m(self, conn, method, url, timeout, chunked, **httplib_request_kw)\u001b[0m\n\u001b[1;32m    461\u001b[0m             httplib_response \u001b[38;5;241m=\u001b[39m conn\u001b[38;5;241m.\u001b[39mgetresponse()\n\u001b[1;32m    462\u001b[0m         \u001b[38;5;28;01mexcept\u001b[39;00m \u001b[38;5;167;01mBaseException\u001b[39;00m \u001b[38;5;28;01mas\u001b[39;00m e:\n\u001b[1;32m    463\u001b[0m             \u001b[38;5;66;03m# Remove the TypeError from the exception chain in\u001b[39;00m\n\u001b[1;32m    464\u001b[0m             \u001b[38;5;66;03m# Python 3 (including for exceptions like SystemExit).\u001b[39;00m\n\u001b[1;32m    465\u001b[0m             \u001b[38;5;66;03m# Otherwise it looks like a bug in the code.\u001b[39;00m\n\u001b[0;32m--> 466\u001b[0m             \u001b[43msix\u001b[49m\u001b[38;5;241;43m.\u001b[39;49m\u001b[43mraise_from\u001b[49m\u001b[43m(\u001b[49m\u001b[43me\u001b[49m\u001b[43m,\u001b[49m\u001b[43m \u001b[49m\u001b[38;5;28;43;01mNone\u001b[39;49;00m\u001b[43m)\u001b[49m\n\u001b[1;32m    467\u001b[0m \u001b[38;5;28;01mexcept\u001b[39;00m (SocketTimeout, BaseSSLError, SocketError) \u001b[38;5;28;01mas\u001b[39;00m e:\n\u001b[1;32m    468\u001b[0m     \u001b[38;5;28mself\u001b[39m\u001b[38;5;241m.\u001b[39m_raise_timeout(err\u001b[38;5;241m=\u001b[39me, url\u001b[38;5;241m=\u001b[39murl, timeout_value\u001b[38;5;241m=\u001b[39mread_timeout)\n",
      "File \u001b[0;32m<string>:3\u001b[0m, in \u001b[0;36mraise_from\u001b[0;34m(value, from_value)\u001b[0m\n",
      "File \u001b[0;32m~/.pyenv/versions/3.10.6/envs/lewagon/lib/python3.10/site-packages/urllib3/connectionpool.py:461\u001b[0m, in \u001b[0;36mHTTPConnectionPool._make_request\u001b[0;34m(self, conn, method, url, timeout, chunked, **httplib_request_kw)\u001b[0m\n\u001b[1;32m    458\u001b[0m \u001b[38;5;28;01mexcept\u001b[39;00m \u001b[38;5;167;01mTypeError\u001b[39;00m:\n\u001b[1;32m    459\u001b[0m     \u001b[38;5;66;03m# Python 3\u001b[39;00m\n\u001b[1;32m    460\u001b[0m     \u001b[38;5;28;01mtry\u001b[39;00m:\n\u001b[0;32m--> 461\u001b[0m         httplib_response \u001b[38;5;241m=\u001b[39m \u001b[43mconn\u001b[49m\u001b[38;5;241;43m.\u001b[39;49m\u001b[43mgetresponse\u001b[49m\u001b[43m(\u001b[49m\u001b[43m)\u001b[49m\n\u001b[1;32m    462\u001b[0m     \u001b[38;5;28;01mexcept\u001b[39;00m \u001b[38;5;167;01mBaseException\u001b[39;00m \u001b[38;5;28;01mas\u001b[39;00m e:\n\u001b[1;32m    463\u001b[0m         \u001b[38;5;66;03m# Remove the TypeError from the exception chain in\u001b[39;00m\n\u001b[1;32m    464\u001b[0m         \u001b[38;5;66;03m# Python 3 (including for exceptions like SystemExit).\u001b[39;00m\n\u001b[1;32m    465\u001b[0m         \u001b[38;5;66;03m# Otherwise it looks like a bug in the code.\u001b[39;00m\n\u001b[1;32m    466\u001b[0m         six\u001b[38;5;241m.\u001b[39mraise_from(e, \u001b[38;5;28;01mNone\u001b[39;00m)\n",
      "File \u001b[0;32m~/.pyenv/versions/3.10.6/lib/python3.10/http/client.py:1374\u001b[0m, in \u001b[0;36mHTTPConnection.getresponse\u001b[0;34m(self)\u001b[0m\n\u001b[1;32m   1372\u001b[0m \u001b[38;5;28;01mtry\u001b[39;00m:\n\u001b[1;32m   1373\u001b[0m     \u001b[38;5;28;01mtry\u001b[39;00m:\n\u001b[0;32m-> 1374\u001b[0m         \u001b[43mresponse\u001b[49m\u001b[38;5;241;43m.\u001b[39;49m\u001b[43mbegin\u001b[49m\u001b[43m(\u001b[49m\u001b[43m)\u001b[49m\n\u001b[1;32m   1375\u001b[0m     \u001b[38;5;28;01mexcept\u001b[39;00m \u001b[38;5;167;01mConnectionError\u001b[39;00m:\n\u001b[1;32m   1376\u001b[0m         \u001b[38;5;28mself\u001b[39m\u001b[38;5;241m.\u001b[39mclose()\n",
      "File \u001b[0;32m~/.pyenv/versions/3.10.6/lib/python3.10/http/client.py:318\u001b[0m, in \u001b[0;36mHTTPResponse.begin\u001b[0;34m(self)\u001b[0m\n\u001b[1;32m    316\u001b[0m \u001b[38;5;66;03m# read until we get a non-100 response\u001b[39;00m\n\u001b[1;32m    317\u001b[0m \u001b[38;5;28;01mwhile\u001b[39;00m \u001b[38;5;28;01mTrue\u001b[39;00m:\n\u001b[0;32m--> 318\u001b[0m     version, status, reason \u001b[38;5;241m=\u001b[39m \u001b[38;5;28;43mself\u001b[39;49m\u001b[38;5;241;43m.\u001b[39;49m\u001b[43m_read_status\u001b[49m\u001b[43m(\u001b[49m\u001b[43m)\u001b[49m\n\u001b[1;32m    319\u001b[0m     \u001b[38;5;28;01mif\u001b[39;00m status \u001b[38;5;241m!=\u001b[39m CONTINUE:\n\u001b[1;32m    320\u001b[0m         \u001b[38;5;28;01mbreak\u001b[39;00m\n",
      "File \u001b[0;32m~/.pyenv/versions/3.10.6/lib/python3.10/http/client.py:279\u001b[0m, in \u001b[0;36mHTTPResponse._read_status\u001b[0;34m(self)\u001b[0m\n\u001b[1;32m    278\u001b[0m \u001b[38;5;28;01mdef\u001b[39;00m \u001b[38;5;21m_read_status\u001b[39m(\u001b[38;5;28mself\u001b[39m):\n\u001b[0;32m--> 279\u001b[0m     line \u001b[38;5;241m=\u001b[39m \u001b[38;5;28mstr\u001b[39m(\u001b[38;5;28;43mself\u001b[39;49m\u001b[38;5;241;43m.\u001b[39;49m\u001b[43mfp\u001b[49m\u001b[38;5;241;43m.\u001b[39;49m\u001b[43mreadline\u001b[49m\u001b[43m(\u001b[49m\u001b[43m_MAXLINE\u001b[49m\u001b[43m \u001b[49m\u001b[38;5;241;43m+\u001b[39;49m\u001b[43m \u001b[49m\u001b[38;5;241;43m1\u001b[39;49m\u001b[43m)\u001b[49m, \u001b[38;5;124m\"\u001b[39m\u001b[38;5;124miso-8859-1\u001b[39m\u001b[38;5;124m\"\u001b[39m)\n\u001b[1;32m    280\u001b[0m     \u001b[38;5;28;01mif\u001b[39;00m \u001b[38;5;28mlen\u001b[39m(line) \u001b[38;5;241m>\u001b[39m _MAXLINE:\n\u001b[1;32m    281\u001b[0m         \u001b[38;5;28;01mraise\u001b[39;00m LineTooLong(\u001b[38;5;124m\"\u001b[39m\u001b[38;5;124mstatus line\u001b[39m\u001b[38;5;124m\"\u001b[39m)\n",
      "File \u001b[0;32m~/.pyenv/versions/3.10.6/lib/python3.10/socket.py:705\u001b[0m, in \u001b[0;36mSocketIO.readinto\u001b[0;34m(self, b)\u001b[0m\n\u001b[1;32m    703\u001b[0m \u001b[38;5;28;01mwhile\u001b[39;00m \u001b[38;5;28;01mTrue\u001b[39;00m:\n\u001b[1;32m    704\u001b[0m     \u001b[38;5;28;01mtry\u001b[39;00m:\n\u001b[0;32m--> 705\u001b[0m         \u001b[38;5;28;01mreturn\u001b[39;00m \u001b[38;5;28;43mself\u001b[39;49m\u001b[38;5;241;43m.\u001b[39;49m\u001b[43m_sock\u001b[49m\u001b[38;5;241;43m.\u001b[39;49m\u001b[43mrecv_into\u001b[49m\u001b[43m(\u001b[49m\u001b[43mb\u001b[49m\u001b[43m)\u001b[49m\n\u001b[1;32m    706\u001b[0m     \u001b[38;5;28;01mexcept\u001b[39;00m timeout:\n\u001b[1;32m    707\u001b[0m         \u001b[38;5;28mself\u001b[39m\u001b[38;5;241m.\u001b[39m_timeout_occurred \u001b[38;5;241m=\u001b[39m \u001b[38;5;28;01mTrue\u001b[39;00m\n",
      "File \u001b[0;32m~/.pyenv/versions/3.10.6/lib/python3.10/ssl.py:1274\u001b[0m, in \u001b[0;36mSSLSocket.recv_into\u001b[0;34m(self, buffer, nbytes, flags)\u001b[0m\n\u001b[1;32m   1270\u001b[0m     \u001b[38;5;28;01mif\u001b[39;00m flags \u001b[38;5;241m!=\u001b[39m \u001b[38;5;241m0\u001b[39m:\n\u001b[1;32m   1271\u001b[0m         \u001b[38;5;28;01mraise\u001b[39;00m \u001b[38;5;167;01mValueError\u001b[39;00m(\n\u001b[1;32m   1272\u001b[0m           \u001b[38;5;124m\"\u001b[39m\u001b[38;5;124mnon-zero flags not allowed in calls to recv_into() on \u001b[39m\u001b[38;5;132;01m%s\u001b[39;00m\u001b[38;5;124m\"\u001b[39m \u001b[38;5;241m%\u001b[39m\n\u001b[1;32m   1273\u001b[0m           \u001b[38;5;28mself\u001b[39m\u001b[38;5;241m.\u001b[39m\u001b[38;5;18m__class__\u001b[39m)\n\u001b[0;32m-> 1274\u001b[0m     \u001b[38;5;28;01mreturn\u001b[39;00m \u001b[38;5;28;43mself\u001b[39;49m\u001b[38;5;241;43m.\u001b[39;49m\u001b[43mread\u001b[49m\u001b[43m(\u001b[49m\u001b[43mnbytes\u001b[49m\u001b[43m,\u001b[49m\u001b[43m \u001b[49m\u001b[43mbuffer\u001b[49m\u001b[43m)\u001b[49m\n\u001b[1;32m   1275\u001b[0m \u001b[38;5;28;01melse\u001b[39;00m:\n\u001b[1;32m   1276\u001b[0m     \u001b[38;5;28;01mreturn\u001b[39;00m \u001b[38;5;28msuper\u001b[39m()\u001b[38;5;241m.\u001b[39mrecv_into(buffer, nbytes, flags)\n",
      "File \u001b[0;32m~/.pyenv/versions/3.10.6/lib/python3.10/ssl.py:1130\u001b[0m, in \u001b[0;36mSSLSocket.read\u001b[0;34m(self, len, buffer)\u001b[0m\n\u001b[1;32m   1128\u001b[0m \u001b[38;5;28;01mtry\u001b[39;00m:\n\u001b[1;32m   1129\u001b[0m     \u001b[38;5;28;01mif\u001b[39;00m buffer \u001b[38;5;129;01mis\u001b[39;00m \u001b[38;5;129;01mnot\u001b[39;00m \u001b[38;5;28;01mNone\u001b[39;00m:\n\u001b[0;32m-> 1130\u001b[0m         \u001b[38;5;28;01mreturn\u001b[39;00m \u001b[38;5;28;43mself\u001b[39;49m\u001b[38;5;241;43m.\u001b[39;49m\u001b[43m_sslobj\u001b[49m\u001b[38;5;241;43m.\u001b[39;49m\u001b[43mread\u001b[49m\u001b[43m(\u001b[49m\u001b[38;5;28;43mlen\u001b[39;49m\u001b[43m,\u001b[49m\u001b[43m \u001b[49m\u001b[43mbuffer\u001b[49m\u001b[43m)\u001b[49m\n\u001b[1;32m   1131\u001b[0m     \u001b[38;5;28;01melse\u001b[39;00m:\n\u001b[1;32m   1132\u001b[0m         \u001b[38;5;28;01mreturn\u001b[39;00m \u001b[38;5;28mself\u001b[39m\u001b[38;5;241m.\u001b[39m_sslobj\u001b[38;5;241m.\u001b[39mread(\u001b[38;5;28mlen\u001b[39m)\n",
      "\u001b[0;31mKeyboardInterrupt\u001b[0m: "
     ]
    }
   ],
   "source": [
    "def get_users_from_hashtag(hashtag):\n",
    "    L = instaloader.Instaloader()\n",
    "    posts = L.get_hashtag_posts(hashtag)\n",
    "    \n",
    "    users = set()  # Using a set to avoid duplicate usernames\n",
    "    \n",
    "    # Limiting to a certain number of posts for demonstration. Remove the limit if needed.\n",
    "    for post in islice(posts, 30):  \n",
    "        users.add(post.owner_username)\n",
    "    \n",
    "    return users\n",
    "\n",
    "hashtags = ['tattoos']  # Replace with your list of hashtags\n",
    "all_users = set()\n",
    "\n",
    "for hashtag in hashtags:\n",
    "    users = get_users_from_hashtag(hashtag)\n",
    "    all_users.update(users)\n",
    "\n",
    "# Convert to DataFrame\n",
    "df = pd.DataFrame(list(all_users), columns=['Username'])\n",
    "\n",
    "# Export to CSV\n",
    "df.to_csv('users.csv', index=False)"
   ]
  },
  {
   "cell_type": "code",
   "execution_count": 8,
   "id": "2782645a",
   "metadata": {},
   "outputs": [],
   "source": [
    "def build_df(new_data, csv_filename):\n",
    "    # Read existing data\n",
    "    try:\n",
    "        existing_data = pd.read_csv('users.csv')\n",
    "    except FileNotFoundError:\n",
    "        existing_data = pd.DataFrame()\n",
    "\n",
    "    # Concatenate new data on top\n",
    "    combined_data = pd.concat([new_data, existing_data], ignore_index=True)\n",
    "\n",
    "    # Remove duplicates based on 'Username' column (or any other column you choose)\n",
    "    combined_data.drop_duplicates(subset='Username', inplace=True)\n",
    "\n",
    "    # Write back to CSV\n",
    "    combined_data.to_csv(csv_filename, index=False)\n",
    "\n",
    "# Assuming df contains the new data\n",
    "build_df(df, 'users.csv')"
   ]
  },
  {
   "cell_type": "code",
   "execution_count": 6,
   "id": "91d26c1f",
   "metadata": {
    "scrolled": false
   },
   "outputs": [
    {
     "name": "stdout",
     "output_type": "stream",
     "text": [
      "\n",
      "HTTP redirect from https://i.instagram.com/api/v1/users/web_profile_info/?username=alerocha_tattoo to https://i.instagram.com/accounts/login/?next=/api/v1/users/web_profile_info/\n",
      "An error occurred: Redirected to login page. Use --login.. Skipping.\n",
      "\n",
      "HTTP redirect from https://i.instagram.com/api/v1/users/web_profile_info/?username=jamilla.soliman to https://i.instagram.com/accounts/login/?next=/api/v1/users/web_profile_info/\n",
      "An error occurred: Redirected to login page. Use --login.. Skipping.\n",
      "\n",
      "HTTP redirect from https://i.instagram.com/api/v1/users/web_profile_info/?username=ziki.tattoo to https://i.instagram.com/accounts/login/?next=/api/v1/users/web_profile_info/\n",
      "An error occurred: Redirected to login page. Use --login.. Skipping.\n",
      "\n",
      "HTTP redirect from https://i.instagram.com/api/v1/users/web_profile_info/?username=imagemsecretaensaios to https://i.instagram.com/accounts/login/?next=/api/v1/users/web_profile_info/\n",
      "An error occurred: Redirected to login page. Use --login.. Skipping.\n",
      "\n",
      "HTTP redirect from https://i.instagram.com/api/v1/users/web_profile_info/?username=inaink_tattoo to https://i.instagram.com/accounts/login/?next=/api/v1/users/web_profile_info/\n",
      "An error occurred: Redirected to login page. Use --login.. Skipping.\n",
      "\n",
      "HTTP redirect from https://i.instagram.com/api/v1/users/web_profile_info/?username=thompsontatt00 to https://i.instagram.com/accounts/login/?next=/api/v1/users/web_profile_info/\n",
      "An error occurred: Redirected to login page. Use --login.. Skipping.\n",
      "\n",
      "HTTP redirect from https://i.instagram.com/api/v1/users/web_profile_info/?username=juliano.de.la.cruz to https://i.instagram.com/accounts/login/?next=/api/v1/users/web_profile_info/\n",
      "An error occurred: Redirected to login page. Use --login.. Skipping.\n"
     ]
    },
    {
     "ename": "KeyboardInterrupt",
     "evalue": "",
     "output_type": "error",
     "traceback": [
      "\u001b[0;31m---------------------------------------------------------------------------\u001b[0m",
      "\u001b[0;31mKeyboardInterrupt\u001b[0m                         Traceback (most recent call last)",
      "Cell \u001b[0;32mIn [6], line 60\u001b[0m\n\u001b[1;32m     58\u001b[0m scraper \u001b[38;5;241m=\u001b[39m InstagramScraper()\n\u001b[1;32m     59\u001b[0m hashtags \u001b[38;5;241m=\u001b[39m [\u001b[38;5;124m'\u001b[39m\u001b[38;5;124mtatuagem\u001b[39m\u001b[38;5;124m'\u001b[39m]  \u001b[38;5;66;03m# Replace with your list of hashtags\u001b[39;00m\n\u001b[0;32m---> 60\u001b[0m user_data \u001b[38;5;241m=\u001b[39m \u001b[43mscraper\u001b[49m\u001b[38;5;241;43m.\u001b[39;49m\u001b[43mget_users_from_hashtags\u001b[49m\u001b[43m(\u001b[49m\u001b[43mhashtags\u001b[49m\u001b[43m)\u001b[49m\n\u001b[1;32m     61\u001b[0m scraper\u001b[38;5;241m.\u001b[39msave_to_csv(user_data)\n",
      "Cell \u001b[0;32mIn [6], line 20\u001b[0m, in \u001b[0;36mInstagramScraper.get_users_from_hashtags\u001b[0;34m(self, hashtags, limit)\u001b[0m\n\u001b[1;32m     18\u001b[0m \u001b[38;5;28;01mtry\u001b[39;00m:\n\u001b[1;32m     19\u001b[0m     username \u001b[38;5;241m=\u001b[39m post\u001b[38;5;241m.\u001b[39mowner_username\n\u001b[0;32m---> 20\u001b[0m     profile \u001b[38;5;241m=\u001b[39m \u001b[43minstaloader\u001b[49m\u001b[38;5;241;43m.\u001b[39;49m\u001b[43mProfile\u001b[49m\u001b[38;5;241;43m.\u001b[39;49m\u001b[43mfrom_username\u001b[49m\u001b[43m(\u001b[49m\u001b[38;5;28;43mself\u001b[39;49m\u001b[38;5;241;43m.\u001b[39;49m\u001b[43mL\u001b[49m\u001b[38;5;241;43m.\u001b[39;49m\u001b[43mcontext\u001b[49m\u001b[43m,\u001b[49m\u001b[43m \u001b[49m\u001b[43musername\u001b[49m\u001b[43m)\u001b[49m\n\u001b[1;32m     22\u001b[0m     \u001b[38;5;28;01mif\u001b[39;00m \u001b[38;5;129;01mnot\u001b[39;00m profile\u001b[38;5;241m.\u001b[39mis_private:  \u001b[38;5;66;03m# Check if profile is public\u001b[39;00m\n\u001b[1;32m     23\u001b[0m         user_data \u001b[38;5;241m=\u001b[39m {\n\u001b[1;32m     24\u001b[0m             \u001b[38;5;124m\"\u001b[39m\u001b[38;5;124musername\u001b[39m\u001b[38;5;124m\"\u001b[39m: username,\n\u001b[1;32m     25\u001b[0m             \u001b[38;5;124m\"\u001b[39m\u001b[38;5;124mprofile_url\u001b[39m\u001b[38;5;124m\"\u001b[39m: \u001b[38;5;124mf\u001b[39m\u001b[38;5;124m\"\u001b[39m\u001b[38;5;124mhttps://www.instagram.com/\u001b[39m\u001b[38;5;132;01m{\u001b[39;00musername\u001b[38;5;132;01m}\u001b[39;00m\u001b[38;5;124m/\u001b[39m\u001b[38;5;124m\"\u001b[39m,\n\u001b[0;32m   (...)\u001b[0m\n\u001b[1;32m     29\u001b[0m             \u001b[38;5;124m\"\u001b[39m\u001b[38;5;124mbio\u001b[39m\u001b[38;5;124m\"\u001b[39m: profile\u001b[38;5;241m.\u001b[39mbiography\n\u001b[1;32m     30\u001b[0m         }\n",
      "File \u001b[0;32m~/.pyenv/versions/3.10.6/envs/lewagon/lib/python3.10/site-packages/instaloader/structures.py:737\u001b[0m, in \u001b[0;36mProfile.from_username\u001b[0;34m(cls, context, username)\u001b[0m\n\u001b[1;32m    735\u001b[0m \u001b[38;5;66;03m# pylint:disable=protected-access\u001b[39;00m\n\u001b[1;32m    736\u001b[0m profile \u001b[38;5;241m=\u001b[39m \u001b[38;5;28mcls\u001b[39m(context, {\u001b[38;5;124m'\u001b[39m\u001b[38;5;124musername\u001b[39m\u001b[38;5;124m'\u001b[39m: username\u001b[38;5;241m.\u001b[39mlower()})\n\u001b[0;32m--> 737\u001b[0m \u001b[43mprofile\u001b[49m\u001b[38;5;241;43m.\u001b[39;49m\u001b[43m_obtain_metadata\u001b[49m\u001b[43m(\u001b[49m\u001b[43m)\u001b[49m  \u001b[38;5;66;03m# to raise ProfileNotExistsException now in case username is invalid\u001b[39;00m\n\u001b[1;32m    738\u001b[0m \u001b[38;5;28;01mreturn\u001b[39;00m profile\n",
      "File \u001b[0;32m~/.pyenv/versions/3.10.6/envs/lewagon/lib/python3.10/site-packages/instaloader/structures.py:806\u001b[0m, in \u001b[0;36mProfile._obtain_metadata\u001b[0;34m(self)\u001b[0m\n\u001b[1;32m    804\u001b[0m \u001b[38;5;28;01mtry\u001b[39;00m:\n\u001b[1;32m    805\u001b[0m     \u001b[38;5;28;01mif\u001b[39;00m \u001b[38;5;129;01mnot\u001b[39;00m \u001b[38;5;28mself\u001b[39m\u001b[38;5;241m.\u001b[39m_has_full_metadata:\n\u001b[0;32m--> 806\u001b[0m         metadata \u001b[38;5;241m=\u001b[39m \u001b[38;5;28;43mself\u001b[39;49m\u001b[38;5;241;43m.\u001b[39;49m\u001b[43m_context\u001b[49m\u001b[38;5;241;43m.\u001b[39;49m\u001b[43mget_iphone_json\u001b[49m\u001b[43m(\u001b[49m\u001b[38;5;124;43mf\u001b[39;49m\u001b[38;5;124;43m'\u001b[39;49m\u001b[38;5;124;43mapi/v1/users/web_profile_info/?username=\u001b[39;49m\u001b[38;5;132;43;01m{\u001b[39;49;00m\u001b[38;5;28;43mself\u001b[39;49m\u001b[38;5;241;43m.\u001b[39;49m\u001b[43musername\u001b[49m\u001b[38;5;132;43;01m}\u001b[39;49;00m\u001b[38;5;124;43m'\u001b[39;49m\u001b[43m,\u001b[49m\n\u001b[1;32m    807\u001b[0m \u001b[43m                                                 \u001b[49m\u001b[43mparams\u001b[49m\u001b[38;5;241;43m=\u001b[39;49m\u001b[43m{\u001b[49m\u001b[43m}\u001b[49m\u001b[43m)\u001b[49m\n\u001b[1;32m    808\u001b[0m         \u001b[38;5;28;01mif\u001b[39;00m metadata[\u001b[38;5;124m'\u001b[39m\u001b[38;5;124mdata\u001b[39m\u001b[38;5;124m'\u001b[39m][\u001b[38;5;124m'\u001b[39m\u001b[38;5;124muser\u001b[39m\u001b[38;5;124m'\u001b[39m] \u001b[38;5;129;01mis\u001b[39;00m \u001b[38;5;28;01mNone\u001b[39;00m:\n\u001b[1;32m    809\u001b[0m             \u001b[38;5;28;01mraise\u001b[39;00m ProfileNotExistsException(\u001b[38;5;124m'\u001b[39m\u001b[38;5;124mProfile \u001b[39m\u001b[38;5;132;01m{}\u001b[39;00m\u001b[38;5;124m does not exist.\u001b[39m\u001b[38;5;124m'\u001b[39m\u001b[38;5;241m.\u001b[39mformat(\u001b[38;5;28mself\u001b[39m\u001b[38;5;241m.\u001b[39musername))\n",
      "File \u001b[0;32m~/.pyenv/versions/3.10.6/envs/lewagon/lib/python3.10/site-packages/instaloader/instaloadercontext.py:580\u001b[0m, in \u001b[0;36mInstaloaderContext.get_iphone_json\u001b[0;34m(self, path, params)\u001b[0m\n\u001b[1;32m    577\u001b[0m     tempsession\u001b[38;5;241m.\u001b[39mcookies\u001b[38;5;241m.\u001b[39mclear()\n\u001b[1;32m    579\u001b[0m response_headers \u001b[38;5;241m=\u001b[39m \u001b[38;5;28mdict\u001b[39m()    \u001b[38;5;66;03m# type: Dict[str, Any]\u001b[39;00m\n\u001b[0;32m--> 580\u001b[0m response \u001b[38;5;241m=\u001b[39m \u001b[38;5;28;43mself\u001b[39;49m\u001b[38;5;241;43m.\u001b[39;49m\u001b[43mget_json\u001b[49m\u001b[43m(\u001b[49m\u001b[43mpath\u001b[49m\u001b[43m,\u001b[49m\u001b[43m \u001b[49m\u001b[43mparams\u001b[49m\u001b[43m,\u001b[49m\u001b[43m \u001b[49m\u001b[38;5;124;43m'\u001b[39;49m\u001b[38;5;124;43mi.instagram.com\u001b[39;49m\u001b[38;5;124;43m'\u001b[39;49m\u001b[43m,\u001b[49m\u001b[43m \u001b[49m\u001b[43mtempsession\u001b[49m\u001b[43m,\u001b[49m\u001b[43m \u001b[49m\u001b[43mresponse_headers\u001b[49m\u001b[38;5;241;43m=\u001b[39;49m\u001b[43mresponse_headers\u001b[49m\u001b[43m)\u001b[49m\n\u001b[1;32m    582\u001b[0m \u001b[38;5;66;03m# Extract the ig-set-* headers and use them in the next request\u001b[39;00m\n\u001b[1;32m    583\u001b[0m \u001b[38;5;28;01mfor\u001b[39;00m key, value \u001b[38;5;129;01min\u001b[39;00m response_headers\u001b[38;5;241m.\u001b[39mitems():\n",
      "File \u001b[0;32m~/.pyenv/versions/3.10.6/envs/lewagon/lib/python3.10/site-packages/instaloader/instaloadercontext.py:365\u001b[0m, in \u001b[0;36mInstaloaderContext.get_json\u001b[0;34m(self, path, params, host, session, _attempt, response_headers)\u001b[0m\n\u001b[1;32m    363\u001b[0m sess \u001b[38;5;241m=\u001b[39m session \u001b[38;5;28;01mif\u001b[39;00m session \u001b[38;5;28;01melse\u001b[39;00m \u001b[38;5;28mself\u001b[39m\u001b[38;5;241m.\u001b[39m_session\n\u001b[1;32m    364\u001b[0m \u001b[38;5;28;01mtry\u001b[39;00m:\n\u001b[0;32m--> 365\u001b[0m     \u001b[38;5;28;43mself\u001b[39;49m\u001b[38;5;241;43m.\u001b[39;49m\u001b[43mdo_sleep\u001b[49m\u001b[43m(\u001b[49m\u001b[43m)\u001b[49m\n\u001b[1;32m    366\u001b[0m     \u001b[38;5;28;01mif\u001b[39;00m is_graphql_query:\n\u001b[1;32m    367\u001b[0m         \u001b[38;5;28mself\u001b[39m\u001b[38;5;241m.\u001b[39m_rate_controller\u001b[38;5;241m.\u001b[39mwait_before_query(params[\u001b[38;5;124m'\u001b[39m\u001b[38;5;124mquery_hash\u001b[39m\u001b[38;5;124m'\u001b[39m])\n",
      "File \u001b[0;32m~/.pyenv/versions/3.10.6/envs/lewagon/lib/python3.10/site-packages/instaloader/instaloadercontext.py:344\u001b[0m, in \u001b[0;36mInstaloaderContext.do_sleep\u001b[0;34m(self)\u001b[0m\n\u001b[1;32m    342\u001b[0m \u001b[38;5;124;03m\"\"\"Sleep a short time if self.sleep is set. Called before each request to instagram.com.\"\"\"\u001b[39;00m\n\u001b[1;32m    343\u001b[0m \u001b[38;5;28;01mif\u001b[39;00m \u001b[38;5;28mself\u001b[39m\u001b[38;5;241m.\u001b[39msleep:\n\u001b[0;32m--> 344\u001b[0m     \u001b[43mtime\u001b[49m\u001b[38;5;241;43m.\u001b[39;49m\u001b[43msleep\u001b[49m\u001b[43m(\u001b[49m\u001b[38;5;28;43mmin\u001b[39;49m\u001b[43m(\u001b[49m\u001b[43mrandom\u001b[49m\u001b[38;5;241;43m.\u001b[39;49m\u001b[43mexpovariate\u001b[49m\u001b[43m(\u001b[49m\u001b[38;5;241;43m0.6\u001b[39;49m\u001b[43m)\u001b[49m\u001b[43m,\u001b[49m\u001b[43m \u001b[49m\u001b[38;5;241;43m15.0\u001b[39;49m\u001b[43m)\u001b[49m\u001b[43m)\u001b[49m\n",
      "\u001b[0;31mKeyboardInterrupt\u001b[0m: "
     ]
    }
   ],
   "source": [
    "import instaloader\n",
    "import pandas as pd\n",
    "import time\n",
    "from itertools import islice\n",
    "\n",
    "class InstagramScraper:\n",
    "    \n",
    "    def __init__(self):\n",
    "        self.L = instaloader.Instaloader()\n",
    "\n",
    "    def get_users_from_hashtags(self, hashtags, limit=30):\n",
    "        all_users = []\n",
    "\n",
    "        for hashtag in hashtags:\n",
    "            posts = self.L.get_hashtag_posts(hashtag)\n",
    "\n",
    "            for post in islice(posts, limit):\n",
    "                try:\n",
    "                    username = post.owner_username\n",
    "                    profile = instaloader.Profile.from_username(self.L.context, username)\n",
    "                    \n",
    "                    if not profile.is_private:  # Check if profile is public\n",
    "                        user_data = {\n",
    "                            \"username\": username,\n",
    "                            \"profile_url\": f\"https://www.instagram.com/{username}/\",\n",
    "                            \"email\": next((line for line in profile.biography.splitlines() if \"email\" in line), None),\n",
    "                            \"mobile_phone\": next((line for line in profile.biography.splitlines() if any(i.isdigit() for i in line)), None),\n",
    "                            \"name\": profile.full_name,\n",
    "                            \"bio\": profile.biography\n",
    "                        }\n",
    "                        all_users.append(user_data)\n",
    "                    \n",
    "                except instaloader.BadResponseException as e:\n",
    "                    if '401' in str(e):\n",
    "                        print(\"HTTP error 401 encountered. Pausing for 10 minutes...\")\n",
    "                        time.sleep(600)  # Pausing for 10 minutes\n",
    "                    else:\n",
    "                        print(f\"Failed to fetch metadata for post with shortcode {post.shortcode}. Skipping.\")\n",
    "                except Exception as e:\n",
    "                    print(f\"An error occurred: {e}. Skipping.\")\n",
    "                time.sleep(2)\n",
    "\n",
    "        return all_users\n",
    "\n",
    "    def save_to_csv(self, user_data, csv_filename='users.csv'):\n",
    "        new_data = pd.DataFrame(user_data)\n",
    "        try:\n",
    "            existing_data = pd.read_csv(csv_filename)\n",
    "        except FileNotFoundError:\n",
    "            existing_data = pd.DataFrame()\n",
    "\n",
    "        combined_data = pd.concat([new_data, existing_data], ignore_index=True)\n",
    "        combined_data.drop_duplicates(subset='username', inplace=True)\n",
    "        combined_data.to_csv(csv_filename, index=False)\n",
    "\n",
    "\n",
    "# Usage\n",
    "scraper = InstagramScraper()\n",
    "hashtags = ['tatuagem']  # Replace with your list of hashtags\n",
    "user_data = scraper.get_users_from_hashtags(hashtags)\n",
    "scraper.save_to_csv(user_data)"
   ]
  },
  {
   "cell_type": "markdown",
   "id": "1aa20b99",
   "metadata": {},
   "source": [
    "# Handling Captcha"
   ]
  },
  {
   "cell_type": "code",
   "execution_count": 5,
   "id": "751c6e32",
   "metadata": {},
   "outputs": [],
   "source": [
    "# "
   ]
  },
  {
   "cell_type": "markdown",
   "id": "11c0ac26",
   "metadata": {},
   "source": [
    "# Rate Limit, Retry"
   ]
  },
  {
   "cell_type": "code",
   "execution_count": null,
   "id": "578abd2b",
   "metadata": {},
   "outputs": [],
   "source": []
  },
  {
   "cell_type": "markdown",
   "id": "2574a3b4",
   "metadata": {},
   "source": [
    "# Avoiding Detection"
   ]
  },
  {
   "cell_type": "code",
   "execution_count": null,
   "id": "8bcb5249",
   "metadata": {},
   "outputs": [],
   "source": []
  },
  {
   "cell_type": "markdown",
   "id": "5b4f8d32",
   "metadata": {},
   "source": [
    "# Data Storage, DB"
   ]
  },
  {
   "cell_type": "code",
   "execution_count": 6,
   "id": "64f5cfbf",
   "metadata": {},
   "outputs": [],
   "source": [
    "# pandas, csv, postgres sql db"
   ]
  },
  {
   "cell_type": "markdown",
   "id": "1ae85963",
   "metadata": {},
   "source": [
    "# Monitoring Alerts"
   ]
  },
  {
   "cell_type": "code",
   "execution_count": null,
   "id": "f0cf5cdd",
   "metadata": {},
   "outputs": [],
   "source": []
  },
  {
   "cell_type": "markdown",
   "id": "73803ab6",
   "metadata": {},
   "source": [
    "# Robots.txt"
   ]
  },
  {
   "cell_type": "code",
   "execution_count": null,
   "id": "0495d7b8",
   "metadata": {},
   "outputs": [],
   "source": []
  },
  {
   "cell_type": "markdown",
   "id": "4b84cc18",
   "metadata": {},
   "source": [
    "# Deploying"
   ]
  }
 ],
 "metadata": {
  "kernelspec": {
   "display_name": "Python 3 (ipykernel)",
   "language": "python",
   "name": "python3"
  },
  "language_info": {
   "codemirror_mode": {
    "name": "ipython",
    "version": 3
   },
   "file_extension": ".py",
   "mimetype": "text/x-python",
   "name": "python",
   "nbconvert_exporter": "python",
   "pygments_lexer": "ipython3",
   "version": "3.10.6"
  },
  "toc": {
   "base_numbering": 1,
   "nav_menu": {},
   "number_sections": true,
   "sideBar": true,
   "skip_h1_title": false,
   "title_cell": "Table of Contents",
   "title_sidebar": "Contents",
   "toc_cell": false,
   "toc_position": {},
   "toc_section_display": true,
   "toc_window_display": false
  }
 },
 "nbformat": 4,
 "nbformat_minor": 5
}
