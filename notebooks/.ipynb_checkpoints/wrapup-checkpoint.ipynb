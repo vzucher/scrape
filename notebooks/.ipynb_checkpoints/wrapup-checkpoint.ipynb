{
 "cells": [
  {
   "cell_type": "code",
   "execution_count": 1,
   "id": "df98acc7-3dd7-47fd-89a0-96cb0fc7b350",
   "metadata": {},
   "outputs": [],
   "source": [
    "# Scraper\n",
    "\n",
    "# Login\n",
    "# Input Hashtag or Hashtags \n",
    "# Search Hashtag[0] \"instagram.com/explore/tags/${hashtag}\"\n",
    "# Parse each grid's post -> Extract username \n",
    "# Build Dictionary { username: URL }\n",
    "\n",
    "# Verify if is_tattoo_artist? \n",
    "\n",
    "# parse username\n",
    "# parse bio\n",
    "# \n",
    "\n",
    "# Instaloader\n",
    "\n",
    "# For each username, browse to URL, request download for all profile's data\n",
    "# Create datalake, upload all profile's information there\n",
    "# Create structured SQL database with all tattoo artist's of Brazil # email + telefone? \n",
    "\n",
    "# Enrich DB\n",
    "\n",
    "# Query tattoo artist's name/username on Google, try to find phone+email"
   ]
  }
 ],
 "metadata": {
  "kernelspec": {
   "display_name": "Python 3 (ipykernel)",
   "language": "python",
   "name": "python3"
  },
  "language_info": {
   "codemirror_mode": {
    "name": "ipython",
    "version": 3
   },
   "file_extension": ".py",
   "mimetype": "text/x-python",
   "name": "python",
   "nbconvert_exporter": "python",
   "pygments_lexer": "ipython3",
   "version": "3.10.6"
  }
 },
 "nbformat": 4,
 "nbformat_minor": 5
}
