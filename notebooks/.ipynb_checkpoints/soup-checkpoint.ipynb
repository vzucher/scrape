{
 "cells": [
  {
   "cell_type": "code",
   "execution_count": 34,
   "id": "4c15fe3e",
   "metadata": {},
   "outputs": [
    {
     "data": {
      "text/plain": [
       "8"
      ]
     },
     "execution_count": 34,
     "metadata": {},
     "output_type": "execute_result"
    }
   ],
   "source": [
    "random.randrange(0, 9)"
   ]
  },
  {
   "cell_type": "code",
   "execution_count": 1,
   "id": "51fe075d",
   "metadata": {},
   "outputs": [],
   "source": [
    "r = range(5,30)"
   ]
  },
  {
   "cell_type": "code",
   "execution_count": null,
   "id": "d843875c",
   "metadata": {},
   "outputs": [],
   "source": []
  },
  {
   "cell_type": "code",
   "execution_count": 1,
   "id": "a2031b22",
   "metadata": {},
   "outputs": [],
   "source": [
    "import requests\n",
    "from bs4 import BeautifulSoup"
   ]
  },
  {
   "cell_type": "code",
   "execution_count": 2,
   "id": "e4580db1",
   "metadata": {},
   "outputs": [],
   "source": [
    "url = 'https://www.google.com/search?q=site%3Ainstagram.com+tattoo+%22%40gmail.com%22&sca_esv=569753216&sxsrf=AM9HkKnUQYatw_KjhbEp0aXkOT0VkNkfUg%3A1696104718389&ei=DoEYZaWvF-y-5OUP3euH4A8&ved=0ahUKEwil7va5ktOBAxVsH7kGHd31AfwQ4dUDCBE&uact=5&oq=site%3Ainstagram.com+tattoo+%22%40gmail.com%22&gs_lp=Egxnd3Mtd2l6LXNlcnAiJnNpdGU6aW5zdGFncmFtLmNvbSB0YXR0b28gIkBnbWFpbC5jb20iSLwEUPEBWOUCcAF4AJABAJgBd6AB7AGqAQMwLjK4AQPIAQD4AQHiAwQYASBBiAYB&sclient=gws-wiz-serp'"
   ]
  },
  {
   "cell_type": "code",
   "execution_count": 24,
   "id": "76e9368b",
   "metadata": {
    "scrolled": false
   },
   "outputs": [
    {
     "data": {
      "text/plain": [
       "'panakota.tattoo@gmail.com (@_panakota) - Instagram'"
      ]
     },
     "execution_count": 24,
     "metadata": {},
     "output_type": "execute_result"
    }
   ],
   "source": [
    "response = requests.get(url)\n",
    "html_doc = response.text\n",
    "\n",
    "# instantiate the soup object\n",
    "\n",
    "soup = BeautifulSoup(html_doc, 'html.parser')\n",
    "h3 = soup.find_all('h3')\n",
    "h3[0].text.strip()"
   ]
  },
  {
   "cell_type": "code",
   "execution_count": 51,
   "id": "3a0c40db",
   "metadata": {},
   "outputs": [
    {
     "data": {
      "text/plain": [
       "range(16, 42)"
      ]
     },
     "execution_count": 51,
     "metadata": {},
     "output_type": "execute_result"
    }
   ],
   "source": [
    "range(16,len(a))"
   ]
  },
  {
   "cell_type": "code",
   "execution_count": 50,
   "id": "6c97c3aa",
   "metadata": {},
   "outputs": [
    {
     "data": {
      "text/plain": [
       "42"
      ]
     },
     "execution_count": 50,
     "metadata": {},
     "output_type": "execute_result"
    }
   ],
   "source": [
    "len(a)"
   ]
  },
  {
   "cell_type": "code",
   "execution_count": 42,
   "id": "cbc3c142",
   "metadata": {},
   "outputs": [
    {
     "data": {
      "text/plain": [
       "'panakota.tattoo@gmail.com (@_panakota) - Instagramwww.instagram.com › _panakota'"
      ]
     },
     "execution_count": 42,
     "metadata": {},
     "output_type": "execute_result"
    }
   ],
   "source": [
    "a = soup.find_all('a')\n",
    "a[16].text"
   ]
  },
  {
   "cell_type": "code",
   "execution_count": 46,
   "id": "c1babf71",
   "metadata": {},
   "outputs": [
    {
     "data": {
      "text/plain": [
       "<a data-ved=\"2ahUKEwjNuvGG89OBAxX6r5UCHSyNAyEQFnoECAcQAg\" href=\"/url?q=https://www.instagram.com/_panakota/&amp;sa=U&amp;ved=2ahUKEwjNuvGG89OBAxX6r5UCHSyNAyEQFnoECAcQAg&amp;usg=AOvVaw1Qs3rfKOV6TIZ3NRiWAlrz\"><div class=\"DnJfK\"><div class=\"j039Wc\"><h3 class=\"zBAuLc l97dzf\"><div class=\"BNeawe vvjwJb AP7Wnd\">panakota.tattoo@gmail.com (@_panakota) - Instagram</div></h3></div><div class=\"sCuL3\"><div class=\"BNeawe UPmit AP7Wnd lRVwie\">www.instagram.com › _panakota</div></div></div></a>"
      ]
     },
     "execution_count": 46,
     "metadata": {},
     "output_type": "execute_result"
    }
   ],
   "source": [
    "a[16]"
   ]
  },
  {
   "cell_type": "code",
   "execution_count": 47,
   "id": "557e1826",
   "metadata": {},
   "outputs": [
    {
     "data": {
      "text/plain": [
       "'/url?q=https://www.instagram.com/_panakota/&sa=U&ved=2ahUKEwjNuvGG89OBAxX6r5UCHSyNAyEQFnoECAcQAg&usg=AOvVaw1Qs3rfKOV6TIZ3NRiWAlrz'"
      ]
     },
     "execution_count": 47,
     "metadata": {},
     "output_type": "execute_result"
    }
   ],
   "source": [
    "a[16]['href']"
   ]
  },
  {
   "cell_type": "code",
   "execution_count": 48,
   "id": "e6a7023f",
   "metadata": {},
   "outputs": [
    {
     "name": "stdout",
     "output_type": "stream",
     "text": [
      "https://www.instagram.com/_panakota/\n"
     ]
    }
   ],
   "source": [
    "import re\n",
    "\n",
    "text = '/url?q=https://www.instagram.com/_panakota/&sa=U&ved=2ahUKEwjNuvGG89OBAxX6r5UCHSyNAyEQFnoECAcQAg&usg=AOvVaw1Qs3rfKOV6TIZ3NRiWAlrz'\n",
    "match = re.search(r'(?<=/url\\?q=)https://www\\.[^&]+', text)\n",
    "\n",
    "if match:\n",
    "    extracted_url = match.group()\n",
    "    print(extracted_url)"
   ]
  },
  {
   "cell_type": "code",
   "execution_count": 56,
   "id": "876730e9",
   "metadata": {},
   "outputs": [
    {
     "data": {
      "text/plain": [
       "42"
      ]
     },
     "execution_count": 56,
     "metadata": {},
     "output_type": "execute_result"
    }
   ],
   "source": [
    "len(soup.find_all('a'))"
   ]
  },
  {
   "cell_type": "code",
   "execution_count": 53,
   "id": "5852b958",
   "metadata": {},
   "outputs": [
    {
     "data": {
      "text/plain": [
       "str"
      ]
     },
     "execution_count": 53,
     "metadata": {},
     "output_type": "execute_result"
    }
   ],
   "source": [
    "type(extracted_url)"
   ]
  }
 ],
 "metadata": {
  "kernelspec": {
   "display_name": "Python 3 (ipykernel)",
   "language": "python",
   "name": "python3"
  },
  "language_info": {
   "codemirror_mode": {
    "name": "ipython",
    "version": 3
   },
   "file_extension": ".py",
   "mimetype": "text/x-python",
   "name": "python",
   "nbconvert_exporter": "python",
   "pygments_lexer": "ipython3",
   "version": "3.10.6"
  },
  "toc": {
   "base_numbering": 1,
   "nav_menu": {},
   "number_sections": true,
   "sideBar": true,
   "skip_h1_title": false,
   "title_cell": "Table of Contents",
   "title_sidebar": "Contents",
   "toc_cell": false,
   "toc_position": {},
   "toc_section_display": true,
   "toc_window_display": false
  }
 },
 "nbformat": 4,
 "nbformat_minor": 5
}
